{
 "cells": [
  {
   "cell_type": "code",
   "execution_count": 34,
   "id": "4998b64d",
   "metadata": {},
   "outputs": [],
   "source": [
    "# Install libraries\n",
    "import numpy as np\n",
    "from decimal import Decimal\n",
    "import scipy"
   ]
  },
  {
   "cell_type": "code",
   "execution_count": 64,
   "id": "9963b9d9",
   "metadata": {},
   "outputs": [
    {
     "name": "stdout",
     "output_type": "stream",
     "text": [
      "1.670900146503267021484047727E-15\n"
     ]
    }
   ],
   "source": [
    "n_affected = 10\n",
    "n_trials = 20\n",
    "p_affected = 0.01\n",
    "\n",
    "print(Decimal( np.math.factorial(n_trials)//( np.math.factorial(n_affected)*np.math.factorial(n_trials-n_affected) ) ) * Decimal(p_affected)**n_affected * Decimal(1-p_affected)**(n_trials-n_affected))\n"
   ]
  },
  {
   "cell_type": "code",
   "execution_count": 65,
   "id": "c2575474",
   "metadata": {},
   "outputs": [
    {
     "name": "stdout",
     "output_type": "stream",
     "text": [
      "1.670900146503267021484047727E-15\n",
      "1.6709001465032671e-15\n"
     ]
    }
   ],
   "source": [
    "n_affected = 10\n",
    "n_trials = 20\n",
    "p_affected = 0.01\n",
    "\n",
    "print(Decimal( np.math.factorial(n_trials)//( np.math.factorial(n_affected)*np.math.factorial(n_trials-n_affected) ) ) * Decimal(p_affected)**n_affected * Decimal(1-p_affected)**(n_trials-n_affected))\n",
    "\n",
    "print(( np.math.factorial(n_trials)/( np.math.factorial(n_affected)*np.math.factorial(n_trials-n_affected) ) ) * (p_affected**n_affected) * ( (1-p_affected)**(n_trials-n_affected) ) )\n"
   ]
  },
  {
   "cell_type": "code",
   "execution_count": 67,
   "id": "4e492683",
   "metadata": {},
   "outputs": [
    {
     "name": "stdout",
     "output_type": "stream",
     "text": [
      "when x=0: 0.8179069375972308\n",
      "when x=1: 0.16523372476711734\n",
      "when x=2: 0.015855761467551664\n",
      "when x=3: 0.0009609552404576767\n",
      "when x=4: 4.125312900954672e-05\n",
      "0.9999986322013671\n"
     ]
    }
   ],
   "source": [
    "result = 0\n",
    "for n in range(5):\n",
    "    n_affected = n\n",
    "    n_trials = 20\n",
    "    p_affected = 0.01\n",
    "\n",
    "    p = ( np.math.factorial(n_trials)/( np.math.factorial(n_affected)*np.math.factorial(n_trials-n_affected) ) ) * (p_affected**n_affected) * ( (1-p_affected)**(n_trials-n_affected) )\n",
    "    print(\"when x={}: {}\".format(n, p))\n",
    "    \n",
    "    result += p\n",
    "\n",
    "print(result)"
   ]
  },
  {
   "cell_type": "code",
   "execution_count": 66,
   "id": "542beef9",
   "metadata": {},
   "outputs": [
    {
     "name": "stdout",
     "output_type": "stream",
     "text": [
      "0\n",
      "1\n",
      "2\n",
      "3\n",
      "4\n"
     ]
    }
   ],
   "source": [
    "for n in range(5):\n",
    "    print(n)"
   ]
  },
  {
   "cell_type": "code",
   "execution_count": 70,
   "id": "40a4f2b7",
   "metadata": {},
   "outputs": [
    {
     "data": {
      "text/plain": [
       "20.0"
      ]
     },
     "execution_count": 70,
     "metadata": {},
     "output_type": "execute_result"
    }
   ],
   "source": [
    "4/0.2"
   ]
  },
  {
   "cell_type": "code",
   "execution_count": 47,
   "id": "8d82bb14",
   "metadata": {},
   "outputs": [
    {
     "name": "stdout",
     "output_type": "stream",
     "text": [
      "7.61985302416047e-24\n",
      "7.61985302416047e-24\n"
     ]
    }
   ],
   "source": [
    "import scipy\n",
    "\n",
    "print(scipy.stats.norm(loc = 25000 , scale = 1000).cdf(15000))\n",
    "print(scipy.stats.norm.cdf(-10))"
   ]
  },
  {
   "cell_type": "code",
   "execution_count": 50,
   "id": "49004feb",
   "metadata": {},
   "outputs": [
    {
     "name": "stdout",
     "output_type": "stream",
     "text": [
      "0.36944134018176367\n",
      "0.36945391969257046\n"
     ]
    }
   ],
   "source": [
    "import scipy\n",
    "\n",
    "print(scipy.stats.norm(loc = 348, scale = 3).cdf(347))\n",
    "print(scipy.stats.norm.cdf(-0.3333))"
   ]
  },
  {
   "cell_type": "code",
   "execution_count": 56,
   "id": "c94fa30d",
   "metadata": {},
   "outputs": [
    {
     "data": {
      "text/plain": [
       "0.0024627969052503614"
      ]
     },
     "execution_count": 56,
     "metadata": {},
     "output_type": "execute_result"
    }
   ],
   "source": [
    "z2 = -0.333\n",
    "z1 = 0\n",
    "\n",
    "1/np.sqrt(2 * np.pi)*(np.exp(-1/6*(z2)**3) - np.exp(-1/6*(z1)**3))"
   ]
  },
  {
   "cell_type": "code",
   "execution_count": 73,
   "id": "8665c458",
   "metadata": {},
   "outputs": [
    {
     "name": "stdout",
     "output_type": "stream",
     "text": [
      "-2.449489742783178\n",
      "0.007152939217714824\n"
     ]
    }
   ],
   "source": [
    "print((345-348) / ( 3/np.sqrt(6) ))\n",
    "\n",
    "print(scipy.stats.norm.cdf(-2.449489742783178))"
   ]
  },
  {
   "cell_type": "code",
   "execution_count": 71,
   "id": "c8303187",
   "metadata": {},
   "outputs": [
    {
     "name": "stdout",
     "output_type": "stream",
     "text": [
      "10.101525445522109\n"
     ]
    }
   ],
   "source": [
    "#(70 – 65) / (3.5/√50) \n",
    "print(5 / ( 3.5/np.sqrt(50) ))"
   ]
  },
  {
   "cell_type": "code",
   "execution_count": null,
   "id": "8ce8c110",
   "metadata": {},
   "outputs": [],
   "source": [
    "self.pdf = 1 / np.sqrt(2 * np.pi * sigma2) * np.exp(-(data_range - mu)**2 / (2 * sigma2))"
   ]
  }
 ],
 "metadata": {
  "kernelspec": {
   "display_name": "Python 3 (ipykernel)",
   "language": "python",
   "name": "python3"
  },
  "language_info": {
   "codemirror_mode": {
    "name": "ipython",
    "version": 3
   },
   "file_extension": ".py",
   "mimetype": "text/x-python",
   "name": "python",
   "nbconvert_exporter": "python",
   "pygments_lexer": "ipython3",
   "version": "3.9.13"
  }
 },
 "nbformat": 4,
 "nbformat_minor": 5
}
