{
 "cells": [
  {
   "cell_type": "markdown",
   "id": "923e7f32",
   "metadata": {},
   "source": [
    "# Homework 3\n",
    "\n",
    "Name: Tomoki Kyotani\n",
    "\n",
    "NUID: ‭002986248‬"
   ]
  },
  {
   "cell_type": "code",
   "execution_count": 1,
   "id": "4998b64d",
   "metadata": {},
   "outputs": [],
   "source": [
    "# Install libraries\n",
    "import pandas as pd\n",
    "import numpy as np\n",
    "import matplotlib.pyplot as plt\n",
    "from sklearn.model_selection import train_test_split\n",
    "from sklearn.preprocessing import StandardScaler\n",
    "import itertools\n",
    "import time\n",
    "import statsmodels.api as sm"
   ]
  },
  {
   "cell_type": "markdown",
   "id": "2e0cb0e2",
   "metadata": {},
   "source": [
    "## 1. Create a custom linear regression model using the house pricing dataset(houseprices.csv) (20 points)"
   ]
  },
  {
   "cell_type": "markdown",
   "id": "3d3dd86e",
   "metadata": {},
   "source": [
    "Import the dataset"
   ]
  },
  {
   "cell_type": "code",
   "execution_count": 2,
   "id": "8e16ebfa",
   "metadata": {
    "scrolled": true
   },
   "outputs": [
    {
     "data": {
      "text/html": [
       "<div>\n",
       "<style scoped>\n",
       "    .dataframe tbody tr th:only-of-type {\n",
       "        vertical-align: middle;\n",
       "    }\n",
       "\n",
       "    .dataframe tbody tr th {\n",
       "        vertical-align: top;\n",
       "    }\n",
       "\n",
       "    .dataframe thead th {\n",
       "        text-align: right;\n",
       "    }\n",
       "</style>\n",
       "<table border=\"1\" class=\"dataframe\">\n",
       "  <thead>\n",
       "    <tr style=\"text-align: right;\">\n",
       "      <th></th>\n",
       "      <th>Home</th>\n",
       "      <th>Price</th>\n",
       "      <th>SqFt</th>\n",
       "      <th>Bedrooms</th>\n",
       "      <th>Bathrooms</th>\n",
       "      <th>Offers</th>\n",
       "      <th>Brick</th>\n",
       "      <th>Neighborhood</th>\n",
       "    </tr>\n",
       "  </thead>\n",
       "  <tbody>\n",
       "    <tr>\n",
       "      <th>0</th>\n",
       "      <td>1</td>\n",
       "      <td>114300</td>\n",
       "      <td>1790</td>\n",
       "      <td>2</td>\n",
       "      <td>2</td>\n",
       "      <td>2</td>\n",
       "      <td>No</td>\n",
       "      <td>East</td>\n",
       "    </tr>\n",
       "    <tr>\n",
       "      <th>1</th>\n",
       "      <td>2</td>\n",
       "      <td>114200</td>\n",
       "      <td>2030</td>\n",
       "      <td>4</td>\n",
       "      <td>2</td>\n",
       "      <td>3</td>\n",
       "      <td>No</td>\n",
       "      <td>East</td>\n",
       "    </tr>\n",
       "    <tr>\n",
       "      <th>2</th>\n",
       "      <td>3</td>\n",
       "      <td>114800</td>\n",
       "      <td>1740</td>\n",
       "      <td>3</td>\n",
       "      <td>2</td>\n",
       "      <td>1</td>\n",
       "      <td>No</td>\n",
       "      <td>East</td>\n",
       "    </tr>\n",
       "    <tr>\n",
       "      <th>3</th>\n",
       "      <td>4</td>\n",
       "      <td>94700</td>\n",
       "      <td>1980</td>\n",
       "      <td>3</td>\n",
       "      <td>2</td>\n",
       "      <td>3</td>\n",
       "      <td>No</td>\n",
       "      <td>East</td>\n",
       "    </tr>\n",
       "    <tr>\n",
       "      <th>4</th>\n",
       "      <td>5</td>\n",
       "      <td>119800</td>\n",
       "      <td>2130</td>\n",
       "      <td>3</td>\n",
       "      <td>3</td>\n",
       "      <td>3</td>\n",
       "      <td>No</td>\n",
       "      <td>East</td>\n",
       "    </tr>\n",
       "  </tbody>\n",
       "</table>\n",
       "</div>"
      ],
      "text/plain": [
       "   Home   Price  SqFt  Bedrooms  Bathrooms  Offers Brick Neighborhood\n",
       "0     1  114300  1790         2          2       2    No         East\n",
       "1     2  114200  2030         4          2       3    No         East\n",
       "2     3  114800  1740         3          2       1    No         East\n",
       "3     4   94700  1980         3          2       3    No         East\n",
       "4     5  119800  2130         3          3       3    No         East"
      ]
     },
     "execution_count": 2,
     "metadata": {},
     "output_type": "execute_result"
    }
   ],
   "source": [
    "df = pd.read_csv(\"~/Downloads/houseprices.csv\")\n",
    "df.head()"
   ]
  },
  {
   "cell_type": "markdown",
   "id": "d7428889",
   "metadata": {},
   "source": [
    "Looking at some statistics about this dataset"
   ]
  },
  {
   "cell_type": "code",
   "execution_count": 3,
   "id": "7316a327",
   "metadata": {},
   "outputs": [
    {
     "data": {
      "text/html": [
       "<div>\n",
       "<style scoped>\n",
       "    .dataframe tbody tr th:only-of-type {\n",
       "        vertical-align: middle;\n",
       "    }\n",
       "\n",
       "    .dataframe tbody tr th {\n",
       "        vertical-align: top;\n",
       "    }\n",
       "\n",
       "    .dataframe thead th {\n",
       "        text-align: right;\n",
       "    }\n",
       "</style>\n",
       "<table border=\"1\" class=\"dataframe\">\n",
       "  <thead>\n",
       "    <tr style=\"text-align: right;\">\n",
       "      <th></th>\n",
       "      <th>Home</th>\n",
       "      <th>Price</th>\n",
       "      <th>SqFt</th>\n",
       "      <th>Bedrooms</th>\n",
       "      <th>Bathrooms</th>\n",
       "      <th>Offers</th>\n",
       "    </tr>\n",
       "  </thead>\n",
       "  <tbody>\n",
       "    <tr>\n",
       "      <th>count</th>\n",
       "      <td>128.000000</td>\n",
       "      <td>128.000000</td>\n",
       "      <td>128.000000</td>\n",
       "      <td>128.000000</td>\n",
       "      <td>128.000000</td>\n",
       "      <td>128.000000</td>\n",
       "    </tr>\n",
       "    <tr>\n",
       "      <th>mean</th>\n",
       "      <td>64.500000</td>\n",
       "      <td>130427.343750</td>\n",
       "      <td>2000.937500</td>\n",
       "      <td>3.023438</td>\n",
       "      <td>2.445312</td>\n",
       "      <td>2.578125</td>\n",
       "    </tr>\n",
       "    <tr>\n",
       "      <th>std</th>\n",
       "      <td>37.094474</td>\n",
       "      <td>26868.770371</td>\n",
       "      <td>211.572431</td>\n",
       "      <td>0.725951</td>\n",
       "      <td>0.514492</td>\n",
       "      <td>1.069324</td>\n",
       "    </tr>\n",
       "    <tr>\n",
       "      <th>min</th>\n",
       "      <td>1.000000</td>\n",
       "      <td>69100.000000</td>\n",
       "      <td>1450.000000</td>\n",
       "      <td>2.000000</td>\n",
       "      <td>2.000000</td>\n",
       "      <td>1.000000</td>\n",
       "    </tr>\n",
       "    <tr>\n",
       "      <th>25%</th>\n",
       "      <td>32.750000</td>\n",
       "      <td>111325.000000</td>\n",
       "      <td>1880.000000</td>\n",
       "      <td>3.000000</td>\n",
       "      <td>2.000000</td>\n",
       "      <td>2.000000</td>\n",
       "    </tr>\n",
       "    <tr>\n",
       "      <th>50%</th>\n",
       "      <td>64.500000</td>\n",
       "      <td>125950.000000</td>\n",
       "      <td>2000.000000</td>\n",
       "      <td>3.000000</td>\n",
       "      <td>2.000000</td>\n",
       "      <td>3.000000</td>\n",
       "    </tr>\n",
       "    <tr>\n",
       "      <th>75%</th>\n",
       "      <td>96.250000</td>\n",
       "      <td>148250.000000</td>\n",
       "      <td>2140.000000</td>\n",
       "      <td>3.000000</td>\n",
       "      <td>3.000000</td>\n",
       "      <td>3.000000</td>\n",
       "    </tr>\n",
       "    <tr>\n",
       "      <th>max</th>\n",
       "      <td>128.000000</td>\n",
       "      <td>211200.000000</td>\n",
       "      <td>2590.000000</td>\n",
       "      <td>5.000000</td>\n",
       "      <td>4.000000</td>\n",
       "      <td>6.000000</td>\n",
       "    </tr>\n",
       "  </tbody>\n",
       "</table>\n",
       "</div>"
      ],
      "text/plain": [
       "             Home          Price         SqFt    Bedrooms   Bathrooms  \\\n",
       "count  128.000000     128.000000   128.000000  128.000000  128.000000   \n",
       "mean    64.500000  130427.343750  2000.937500    3.023438    2.445312   \n",
       "std     37.094474   26868.770371   211.572431    0.725951    0.514492   \n",
       "min      1.000000   69100.000000  1450.000000    2.000000    2.000000   \n",
       "25%     32.750000  111325.000000  1880.000000    3.000000    2.000000   \n",
       "50%     64.500000  125950.000000  2000.000000    3.000000    2.000000   \n",
       "75%     96.250000  148250.000000  2140.000000    3.000000    3.000000   \n",
       "max    128.000000  211200.000000  2590.000000    5.000000    4.000000   \n",
       "\n",
       "           Offers  \n",
       "count  128.000000  \n",
       "mean     2.578125  \n",
       "std      1.069324  \n",
       "min      1.000000  \n",
       "25%      2.000000  \n",
       "50%      3.000000  \n",
       "75%      3.000000  \n",
       "max      6.000000  "
      ]
     },
     "execution_count": 3,
     "metadata": {},
     "output_type": "execute_result"
    }
   ],
   "source": [
    "df.describe()"
   ]
  },
  {
   "cell_type": "markdown",
   "id": "af40c04c",
   "metadata": {},
   "source": [
    "Assign the features and target to variables: x and y."
   ]
  },
  {
   "cell_type": "code",
   "execution_count": 4,
   "id": "99c751ff",
   "metadata": {},
   "outputs": [
    {
     "data": {
      "text/html": [
       "<div>\n",
       "<style scoped>\n",
       "    .dataframe tbody tr th:only-of-type {\n",
       "        vertical-align: middle;\n",
       "    }\n",
       "\n",
       "    .dataframe tbody tr th {\n",
       "        vertical-align: top;\n",
       "    }\n",
       "\n",
       "    .dataframe thead th {\n",
       "        text-align: right;\n",
       "    }\n",
       "</style>\n",
       "<table border=\"1\" class=\"dataframe\">\n",
       "  <thead>\n",
       "    <tr style=\"text-align: right;\">\n",
       "      <th></th>\n",
       "      <th>SqFt</th>\n",
       "      <th>Bedrooms</th>\n",
       "      <th>Bathrooms</th>\n",
       "      <th>Offers</th>\n",
       "      <th>Brick</th>\n",
       "      <th>Neighborhood</th>\n",
       "    </tr>\n",
       "  </thead>\n",
       "  <tbody>\n",
       "    <tr>\n",
       "      <th>0</th>\n",
       "      <td>1790</td>\n",
       "      <td>2</td>\n",
       "      <td>2</td>\n",
       "      <td>2</td>\n",
       "      <td>No</td>\n",
       "      <td>East</td>\n",
       "    </tr>\n",
       "    <tr>\n",
       "      <th>1</th>\n",
       "      <td>2030</td>\n",
       "      <td>4</td>\n",
       "      <td>2</td>\n",
       "      <td>3</td>\n",
       "      <td>No</td>\n",
       "      <td>East</td>\n",
       "    </tr>\n",
       "    <tr>\n",
       "      <th>2</th>\n",
       "      <td>1740</td>\n",
       "      <td>3</td>\n",
       "      <td>2</td>\n",
       "      <td>1</td>\n",
       "      <td>No</td>\n",
       "      <td>East</td>\n",
       "    </tr>\n",
       "    <tr>\n",
       "      <th>3</th>\n",
       "      <td>1980</td>\n",
       "      <td>3</td>\n",
       "      <td>2</td>\n",
       "      <td>3</td>\n",
       "      <td>No</td>\n",
       "      <td>East</td>\n",
       "    </tr>\n",
       "    <tr>\n",
       "      <th>4</th>\n",
       "      <td>2130</td>\n",
       "      <td>3</td>\n",
       "      <td>3</td>\n",
       "      <td>3</td>\n",
       "      <td>No</td>\n",
       "      <td>East</td>\n",
       "    </tr>\n",
       "  </tbody>\n",
       "</table>\n",
       "</div>"
      ],
      "text/plain": [
       "   SqFt  Bedrooms  Bathrooms  Offers Brick Neighborhood\n",
       "0  1790         2          2       2    No         East\n",
       "1  2030         4          2       3    No         East\n",
       "2  1740         3          2       1    No         East\n",
       "3  1980         3          2       3    No         East\n",
       "4  2130         3          3       3    No         East"
      ]
     },
     "execution_count": 4,
     "metadata": {},
     "output_type": "execute_result"
    }
   ],
   "source": [
    "x = df.iloc[:, 2:]\n",
    "y = df.iloc[:,1].values\n",
    "x.head()"
   ]
  },
  {
   "cell_type": "markdown",
   "id": "95c8140c",
   "metadata": {},
   "source": [
    "Currently, \"Brick\" and \"Neighborhood\" columns are categorical and have unique values below:"
   ]
  },
  {
   "cell_type": "code",
   "execution_count": 5,
   "id": "e0bbf414",
   "metadata": {},
   "outputs": [
    {
     "name": "stdout",
     "output_type": "stream",
     "text": [
      "['No' 'Yes']\n",
      "['East' 'North' 'West']\n"
     ]
    }
   ],
   "source": [
    "# Print the unique values in \"Brick\" and \"Neighborhood\" columns\n",
    "\n",
    "print(x['Brick'].unique())\n",
    "print(x['Neighborhood'].unique())"
   ]
  },
  {
   "cell_type": "markdown",
   "id": "5b878b17",
   "metadata": {},
   "source": [
    "Convert the categorical features (\"Brick\" and \"Neighborhood\") to integers (0/1) using one hot encoding"
   ]
  },
  {
   "cell_type": "code",
   "execution_count": 6,
   "id": "e9a30860",
   "metadata": {},
   "outputs": [
    {
     "data": {
      "text/html": [
       "<div>\n",
       "<style scoped>\n",
       "    .dataframe tbody tr th:only-of-type {\n",
       "        vertical-align: middle;\n",
       "    }\n",
       "\n",
       "    .dataframe tbody tr th {\n",
       "        vertical-align: top;\n",
       "    }\n",
       "\n",
       "    .dataframe thead th {\n",
       "        text-align: right;\n",
       "    }\n",
       "</style>\n",
       "<table border=\"1\" class=\"dataframe\">\n",
       "  <thead>\n",
       "    <tr style=\"text-align: right;\">\n",
       "      <th></th>\n",
       "      <th>SqFt</th>\n",
       "      <th>Bedrooms</th>\n",
       "      <th>Bathrooms</th>\n",
       "      <th>Offers</th>\n",
       "      <th>Brick_No</th>\n",
       "      <th>Brick_Yes</th>\n",
       "      <th>Neighborhood_East</th>\n",
       "      <th>Neighborhood_North</th>\n",
       "      <th>Neighborhood_West</th>\n",
       "    </tr>\n",
       "  </thead>\n",
       "  <tbody>\n",
       "    <tr>\n",
       "      <th>0</th>\n",
       "      <td>1790</td>\n",
       "      <td>2</td>\n",
       "      <td>2</td>\n",
       "      <td>2</td>\n",
       "      <td>1</td>\n",
       "      <td>0</td>\n",
       "      <td>1</td>\n",
       "      <td>0</td>\n",
       "      <td>0</td>\n",
       "    </tr>\n",
       "    <tr>\n",
       "      <th>1</th>\n",
       "      <td>2030</td>\n",
       "      <td>4</td>\n",
       "      <td>2</td>\n",
       "      <td>3</td>\n",
       "      <td>1</td>\n",
       "      <td>0</td>\n",
       "      <td>1</td>\n",
       "      <td>0</td>\n",
       "      <td>0</td>\n",
       "    </tr>\n",
       "    <tr>\n",
       "      <th>2</th>\n",
       "      <td>1740</td>\n",
       "      <td>3</td>\n",
       "      <td>2</td>\n",
       "      <td>1</td>\n",
       "      <td>1</td>\n",
       "      <td>0</td>\n",
       "      <td>1</td>\n",
       "      <td>0</td>\n",
       "      <td>0</td>\n",
       "    </tr>\n",
       "    <tr>\n",
       "      <th>3</th>\n",
       "      <td>1980</td>\n",
       "      <td>3</td>\n",
       "      <td>2</td>\n",
       "      <td>3</td>\n",
       "      <td>1</td>\n",
       "      <td>0</td>\n",
       "      <td>1</td>\n",
       "      <td>0</td>\n",
       "      <td>0</td>\n",
       "    </tr>\n",
       "    <tr>\n",
       "      <th>4</th>\n",
       "      <td>2130</td>\n",
       "      <td>3</td>\n",
       "      <td>3</td>\n",
       "      <td>3</td>\n",
       "      <td>1</td>\n",
       "      <td>0</td>\n",
       "      <td>1</td>\n",
       "      <td>0</td>\n",
       "      <td>0</td>\n",
       "    </tr>\n",
       "  </tbody>\n",
       "</table>\n",
       "</div>"
      ],
      "text/plain": [
       "   SqFt  Bedrooms  Bathrooms  Offers  Brick_No  Brick_Yes  Neighborhood_East  \\\n",
       "0  1790         2          2       2         1          0                  1   \n",
       "1  2030         4          2       3         1          0                  1   \n",
       "2  1740         3          2       1         1          0                  1   \n",
       "3  1980         3          2       3         1          0                  1   \n",
       "4  2130         3          3       3         1          0                  1   \n",
       "\n",
       "   Neighborhood_North  Neighborhood_West  \n",
       "0                   0                  0  \n",
       "1                   0                  0  \n",
       "2                   0                  0  \n",
       "3                   0                  0  \n",
       "4                   0                  0  "
      ]
     },
     "execution_count": 6,
     "metadata": {},
     "output_type": "execute_result"
    }
   ],
   "source": [
    "x = pd.get_dummies(df.iloc[:, 2:])\n",
    "x.head()"
   ]
  },
  {
   "cell_type": "markdown",
   "id": "42dbfcb5",
   "metadata": {},
   "source": [
    "Scale the dataset"
   ]
  },
  {
   "cell_type": "code",
   "execution_count": 7,
   "id": "69ccd3e4",
   "metadata": {},
   "outputs": [
    {
     "data": {
      "text/html": [
       "<div>\n",
       "<style scoped>\n",
       "    .dataframe tbody tr th:only-of-type {\n",
       "        vertical-align: middle;\n",
       "    }\n",
       "\n",
       "    .dataframe tbody tr th {\n",
       "        vertical-align: top;\n",
       "    }\n",
       "\n",
       "    .dataframe thead th {\n",
       "        text-align: right;\n",
       "    }\n",
       "</style>\n",
       "<table border=\"1\" class=\"dataframe\">\n",
       "  <thead>\n",
       "    <tr style=\"text-align: right;\">\n",
       "      <th></th>\n",
       "      <th>SqFt</th>\n",
       "      <th>Bedrooms</th>\n",
       "      <th>Bathrooms</th>\n",
       "      <th>Offers</th>\n",
       "      <th>Brick_No</th>\n",
       "      <th>Brick_Yes</th>\n",
       "      <th>Neighborhood_East</th>\n",
       "      <th>Neighborhood_North</th>\n",
       "      <th>Neighborhood_West</th>\n",
       "    </tr>\n",
       "  </thead>\n",
       "  <tbody>\n",
       "    <tr>\n",
       "      <th>0</th>\n",
       "      <td>-1.000916</td>\n",
       "      <td>-1.415327</td>\n",
       "      <td>-0.868939</td>\n",
       "      <td>-0.542769</td>\n",
       "      <td>0.698836</td>\n",
       "      <td>-0.698836</td>\n",
       "      <td>1.358103</td>\n",
       "      <td>-0.723747</td>\n",
       "      <td>-0.661968</td>\n",
       "    </tr>\n",
       "    <tr>\n",
       "      <th>1</th>\n",
       "      <td>0.137904</td>\n",
       "      <td>1.350503</td>\n",
       "      <td>-0.868939</td>\n",
       "      <td>0.396075</td>\n",
       "      <td>0.698836</td>\n",
       "      <td>-0.698836</td>\n",
       "      <td>1.358103</td>\n",
       "      <td>-0.723747</td>\n",
       "      <td>-0.661968</td>\n",
       "    </tr>\n",
       "    <tr>\n",
       "      <th>2</th>\n",
       "      <td>-1.238171</td>\n",
       "      <td>-0.032412</td>\n",
       "      <td>-0.868939</td>\n",
       "      <td>-1.481614</td>\n",
       "      <td>0.698836</td>\n",
       "      <td>-0.698836</td>\n",
       "      <td>1.358103</td>\n",
       "      <td>-0.723747</td>\n",
       "      <td>-0.661968</td>\n",
       "    </tr>\n",
       "    <tr>\n",
       "      <th>3</th>\n",
       "      <td>-0.099350</td>\n",
       "      <td>-0.032412</td>\n",
       "      <td>-0.868939</td>\n",
       "      <td>0.396075</td>\n",
       "      <td>0.698836</td>\n",
       "      <td>-0.698836</td>\n",
       "      <td>1.358103</td>\n",
       "      <td>-0.723747</td>\n",
       "      <td>-0.661968</td>\n",
       "    </tr>\n",
       "    <tr>\n",
       "      <th>4</th>\n",
       "      <td>0.612413</td>\n",
       "      <td>-0.032412</td>\n",
       "      <td>1.082362</td>\n",
       "      <td>0.396075</td>\n",
       "      <td>0.698836</td>\n",
       "      <td>-0.698836</td>\n",
       "      <td>1.358103</td>\n",
       "      <td>-0.723747</td>\n",
       "      <td>-0.661968</td>\n",
       "    </tr>\n",
       "  </tbody>\n",
       "</table>\n",
       "</div>"
      ],
      "text/plain": [
       "       SqFt  Bedrooms  Bathrooms    Offers  Brick_No  Brick_Yes  \\\n",
       "0 -1.000916 -1.415327  -0.868939 -0.542769  0.698836  -0.698836   \n",
       "1  0.137904  1.350503  -0.868939  0.396075  0.698836  -0.698836   \n",
       "2 -1.238171 -0.032412  -0.868939 -1.481614  0.698836  -0.698836   \n",
       "3 -0.099350 -0.032412  -0.868939  0.396075  0.698836  -0.698836   \n",
       "4  0.612413 -0.032412   1.082362  0.396075  0.698836  -0.698836   \n",
       "\n",
       "   Neighborhood_East  Neighborhood_North  Neighborhood_West  \n",
       "0           1.358103           -0.723747          -0.661968  \n",
       "1           1.358103           -0.723747          -0.661968  \n",
       "2           1.358103           -0.723747          -0.661968  \n",
       "3           1.358103           -0.723747          -0.661968  \n",
       "4           1.358103           -0.723747          -0.661968  "
      ]
     },
     "execution_count": 7,
     "metadata": {},
     "output_type": "execute_result"
    }
   ],
   "source": [
    "x_columns = x.columns\n",
    "\n",
    "sc = StandardScaler()\n",
    "x = pd.DataFrame(sc.fit_transform(x))\n",
    "x.columns = x_columns\n",
    "x.head()"
   ]
  },
  {
   "cell_type": "markdown",
   "id": "7998d264",
   "metadata": {},
   "source": [
    "### a) Split the dataset into training and test dataset 80:20"
   ]
  },
  {
   "cell_type": "code",
   "execution_count": 8,
   "id": "c77c53af",
   "metadata": {},
   "outputs": [],
   "source": [
    "Xtrain, Xtest, Ytrain, Ytest = train_test_split(x, y, test_size = 0.2, random_state=11)"
   ]
  },
  {
   "cell_type": "markdown",
   "id": "c2925caf",
   "metadata": {},
   "source": [
    "### b) Custom linear regression model should be in python class format (Should have init(), predict(), train() methods) and train the model using training dataset"
   ]
  },
  {
   "cell_type": "markdown",
   "id": "9124866c",
   "metadata": {},
   "source": [
    "Reference: IE7300 'Chapter 3 Multiple Linear Regression' file"
   ]
  },
  {
   "cell_type": "code",
   "execution_count": 9,
   "id": "3a4d7b8d",
   "metadata": {},
   "outputs": [],
   "source": [
    "class LinearRegression():\n",
    "    def __init__(self, learning_rate, epochs):\n",
    "        \"\"\"Initialize a linear regression model.\n",
    "\n",
    "        Parameters\n",
    "        ----------\n",
    "        learning_rate: Learning rate of Gradient Descent\n",
    "        epochs: Number of iteration in Gradient Descent\n",
    "        \"\"\"\n",
    "        self.learning_rate = learning_rate\n",
    "        self.epochs = epochs\n",
    "        self.w_calculated, self.b_calculated, self.cost_list = None, None, None\n",
    "    \n",
    "    def train(self, x, y):\n",
    "        \"\"\"Train a linear regression model using the provided data.\n",
    "\n",
    "        Parameters\n",
    "        ----------\n",
    "        x: Predictors\n",
    "        y: Target\n",
    "        \"\"\"\n",
    "        \n",
    "        self.w_calculated, self.b_calculated, self.cost_list = self.__GradientDescent(x, y, np.zeros(x.shape[1]), 0)\n",
    "    \n",
    "    def predict(self, x):\n",
    "        \"\"\"Predict y based on the provided x\n",
    "\n",
    "        Parameters\n",
    "        ----------\n",
    "        x: Predictors\n",
    "        \"\"\"\n",
    "        return x.dot(self.w_calculated) + self.b_calculated\n",
    "    \n",
    "    def __CostFunction(self, loss, y_length):\n",
    "        \"\"\"Calculate cost of the model (Loss function)\n",
    "\n",
    "        Parameters\n",
    "        ----------\n",
    "        loss: Calculated loss... y_hat - y\n",
    "        y_length: length/number of y (target)\n",
    "        \"\"\"\n",
    "        \n",
    "        cost = np.sum((loss ** 2) / (2*y_length))\n",
    "        return cost\n",
    "    \n",
    "    def __GradientDescent(self, x, y, w, b):\n",
    "        \"\"\"Perform Gradient Descent\n",
    "\n",
    "        Parameters\n",
    "        ----------\n",
    "        x: Predictors\n",
    "        y: Target\n",
    "        w: Weights (coefficients)\n",
    "        b: Bias (intercept)\n",
    "        \"\"\"\n",
    "        \n",
    "        cost_list = [0] * self.epochs\n",
    "\n",
    "        for epoch in range(self.epochs):\n",
    "            z = x.dot(w) + b\n",
    "            loss = z - y\n",
    "\n",
    "            weight_gradient = x.T.dot(loss) / len(y)\n",
    "            bias_gradient = np.sum(loss) / len(y)\n",
    "\n",
    "            w = w - self.learning_rate*weight_gradient\n",
    "            b = b - self.learning_rate*bias_gradient\n",
    "\n",
    "            cost = self.__CostFunction(loss, len(y))\n",
    "            cost_list[epoch] = cost\n",
    "\n",
    "            #if (epoch%(self.epochs/10)==0):\n",
    "            #    print(\"Cost at epoch\",epoch,\"is:\",cost)\n",
    "\n",
    "        return w, b, cost_list"
   ]
  },
  {
   "cell_type": "markdown",
   "id": "bc570add",
   "metadata": {},
   "source": [
    "### c) Predict the house prices using test dataset"
   ]
  },
  {
   "cell_type": "code",
   "execution_count": 10,
   "id": "0d7d6fe2",
   "metadata": {},
   "outputs": [],
   "source": [
    "# Linear Regression model with learning rate 0.002 and epochs 10000\n",
    "LR = LinearRegression(0.002, 10000)\n",
    "\n",
    "# Train the model using the training dataset\n",
    "LR.train(Xtrain, Ytrain)\n",
    "\n",
    "# Predict the prices using the test dataset\n",
    "y_pred = LR.predict(Xtest)"
   ]
  },
  {
   "cell_type": "markdown",
   "id": "14809d07",
   "metadata": {},
   "source": [
    "### d) Show the predicted output, and loss function output plots"
   ]
  },
  {
   "cell_type": "code",
   "execution_count": 11,
   "id": "5c0b4bbc",
   "metadata": {},
   "outputs": [
    {
     "data": {
      "image/png": "[encoded data removed]",
      "text/plain": [
       "<Figure size 640x480 with 1 Axes>"
      ]
     },
     "metadata": {},
     "output_type": "display_data"
    }
   ],
   "source": [
    "# Plot the predicted output vs \n",
    "plt.scatter(Ytest, y_pred.values)\n",
    "plt.title('Predicted house prices')\n",
    "plt.xlabel('Actual')\n",
    "plt.ylabel('Predicted');"
   ]
  },
  {
   "cell_type": "code",
   "execution_count": 12,
   "id": "d08f7d77",
   "metadata": {},
   "outputs": [
    {
     "data": {
      "image/png": "[encoded data removed]",
      "text/plain": [
       "<Figure size 640x480 with 1 Axes>"
      ]
     },
     "metadata": {},
     "output_type": "display_data"
    }
   ],
   "source": [
    "# Plot loss function output\n",
    "plt.plot(LR.cost_list)\n",
    "plt.title('Loss Function Output')\n",
    "plt.xlabel('Loss')\n",
    "plt.ylabel('# of epochs');"
   ]
  },
  {
   "cell_type": "markdown",
   "id": "4e2a31e4",
   "metadata": {},
   "source": [
    "### e) Calculate the RMSE and R2 metrics"
   ]
  },
  {
   "cell_type": "code",
   "execution_count": 13,
   "id": "e3cf4e2b",
   "metadata": {},
   "outputs": [],
   "source": [
    "def rmse_score(y_pred, y):    \n",
    "    return np.sqrt( np.sum( (y - y_pred)**2 )/len(y) )\n",
    "\n",
    "def r2_score(y_pred, y):\n",
    "    rss = np.sum((y_pred - y) ** 2)\n",
    "    tss = np.sum((y-y.mean()) ** 2)\n",
    "    \n",
    "    r2 = 1 - (rss / tss)\n",
    "    return r2"
   ]
  },
  {
   "cell_type": "code",
   "execution_count": 14,
   "id": "bc154154",
   "metadata": {},
   "outputs": [
    {
     "name": "stdout",
     "output_type": "stream",
     "text": [
      "RMSE:  7622.031147088628\n",
      "R2:  0.9341473698945719\n"
     ]
    }
   ],
   "source": [
    "print(\"RMSE: \", rmse_score(y_pred.values, Ytest))\n",
    "print(\"R2: \", r2_score(y_pred, Ytest))"
   ]
  },
  {
   "cell_type": "markdown",
   "id": "e610bc5d",
   "metadata": {},
   "source": [
    "The calculated RMSE is 7622, and R2 is 0.934. \n",
    "\n",
    "In the original dataset, the house prices range from 69100 to 211200, so the RMSE 7622 with the R2 0.934 shows that the model is performing very well."
   ]
  },
  {
   "cell_type": "markdown",
   "id": "25137be5",
   "metadata": {},
   "source": [
    "## 2. Perform model selection using subset best, forward selection, and backward selection methods (15 points)"
   ]
  },
  {
   "cell_type": "markdown",
   "id": "6744407e",
   "metadata": {},
   "source": [
    "Here, each method will be performed for the number of features ranging from 1 to 9 (there are 9 predictors in the dataset).\n",
    "\n",
    "Reference: IE7300 'Chapter 3 Subset Selection' file.\n",
    "\n",
    "### Best Subset Selection:"
   ]
  },
  {
   "cell_type": "code",
   "execution_count": 15,
   "id": "e1e2d371",
   "metadata": {},
   "outputs": [],
   "source": [
    "# Fit model on feature_set and calculate RSS\n",
    "def process_subset(feature_set):\n",
    "    # Fit model on feature_set and calculate RSS\n",
    "    model = sm.OLS(Ytrain, Xtrain[list(feature_set)])\n",
    "    regr = model.fit()\n",
    "    RSS = ((regr.predict(Xtest[list(feature_set)]) - Ytest) ** 2).sum()\n",
    "    return {\"model\":regr, \"RSS\":RSS}"
   ]
  },
  {
   "cell_type": "code",
   "execution_count": 16,
   "id": "2d5b06e3",
   "metadata": {},
   "outputs": [],
   "source": [
    "def get_best(k):\n",
    "    \n",
    "    tic = time.time()\n",
    "    \n",
    "    results = []\n",
    "    \n",
    "    for combo in itertools.combinations(Xtrain.columns, k):\n",
    "        results.append(process_subset(combo))\n",
    "    \n",
    "    # Wrap everything up in a nice dataframe\n",
    "    models = pd.DataFrame(results)\n",
    "    \n",
    "    # Choose the model with the smallest RSS\n",
    "    best_model = models.loc[models['RSS'].argmin()]\n",
    "    \n",
    "    toc = time.time()\n",
    "    print(\"Processed\", models.shape[0], \"models on\", k, \"predictors in\", (toc-tic), \"seconds.\")\n",
    "    \n",
    "    # Return the best model, along with some other useful information about the model\n",
    "    return best_model"
   ]
  },
  {
   "cell_type": "code",
   "execution_count": 17,
   "id": "4c368979",
   "metadata": {},
   "outputs": [
    {
     "name": "stdout",
     "output_type": "stream",
     "text": [
      "Processed 9 models on 1 predictors in 0.011313915252685547 seconds.\n",
      "Processed 36 models on 2 predictors in 0.03319692611694336 seconds.\n",
      "Processed 84 models on 3 predictors in 0.07825899124145508 seconds.\n",
      "Processed 126 models on 4 predictors in 0.12288808822631836 seconds.\n",
      "Processed 126 models on 5 predictors in 0.12505865097045898 seconds.\n",
      "Processed 84 models on 6 predictors in 0.08551192283630371 seconds.\n",
      "Processed 36 models on 7 predictors in 0.038537025451660156 seconds.\n",
      "Processed 9 models on 8 predictors in 0.010202169418334961 seconds.\n",
      "Processed 1 models on 9 predictors in 0.001402139663696289 seconds.\n",
      "Total elapsed time: 0.5135340690612793 seconds.\n"
     ]
    }
   ],
   "source": [
    "models_best = pd.DataFrame(columns=[\"RSS\", \"model\"])\n",
    "\n",
    "tic = time.time()\n",
    "for i in range(1,10):\n",
    "    models_best.loc[i] = get_best(i)\n",
    "\n",
    "toc = time.time()\n",
    "print(\"Total elapsed time:\", (toc-tic), \"seconds.\")"
   ]
  },
  {
   "cell_type": "markdown",
   "id": "8ef3d4fd",
   "metadata": {},
   "source": [
    "### Forward Stepwise Selection:"
   ]
  },
  {
   "cell_type": "code",
   "execution_count": 18,
   "id": "1a144730",
   "metadata": {},
   "outputs": [],
   "source": [
    "def forward(predictors):\n",
    "\n",
    "    # Pull out predictors we still need to process\n",
    "    remaining_predictors = [p for p in Xtrain.columns if p not in predictors]\n",
    "    \n",
    "    tic = time.time()\n",
    "    \n",
    "    results = []\n",
    "    \n",
    "    for p in remaining_predictors:\n",
    "        results.append(process_subset(predictors+[p]))\n",
    "    \n",
    "    # Wrap everything up in a nice dataframe\n",
    "    models = pd.DataFrame(results)\n",
    "    \n",
    "    # Choose the model with the smallest RSS\n",
    "    best_model = models.loc[models['RSS'].argmin()]\n",
    "    \n",
    "    toc = time.time()\n",
    "    print(\"Processed \", models.shape[0], \"models on\", len(predictors)+1, \"predictors in\", (toc-tic), \"seconds.\")\n",
    "    \n",
    "    # Return the best model, along with some other useful information about the model\n",
    "    return best_model"
   ]
  },
  {
   "cell_type": "code",
   "execution_count": 19,
   "id": "82a655e8",
   "metadata": {},
   "outputs": [
    {
     "name": "stdout",
     "output_type": "stream",
     "text": [
      "Processed  9 models on 1 predictors in 0.025356054306030273 seconds.\n",
      "Processed  8 models on 2 predictors in 0.016010046005249023 seconds.\n",
      "Processed  7 models on 3 predictors in 0.011402130126953125 seconds.\n",
      "Processed  6 models on 4 predictors in 0.008196830749511719 seconds.\n",
      "Processed  5 models on 5 predictors in 0.006550788879394531 seconds.\n",
      "Processed  4 models on 6 predictors in 0.005040884017944336 seconds.\n",
      "Processed  3 models on 7 predictors in 0.0037963390350341797 seconds.\n",
      "Processed  2 models on 8 predictors in 0.0025818347930908203 seconds.\n",
      "Processed  1 models on 9 predictors in 0.0014808177947998047 seconds.\n",
      "Total elapsed time: 0.08966898918151855 seconds.\n"
     ]
    }
   ],
   "source": [
    "models_fwd = pd.DataFrame(columns=[\"RSS\", \"model\"])\n",
    "\n",
    "tic = time.time()\n",
    "predictors = []\n",
    "\n",
    "for i in range(1,len(Xtrain.columns)+1):    \n",
    "    models_fwd.loc[i] = forward(predictors)\n",
    "    predictors = models_fwd.loc[i][\"model\"].model.exog_names\n",
    "\n",
    "toc = time.time()\n",
    "print(\"Total elapsed time:\", (toc-tic), \"seconds.\")"
   ]
  },
  {
   "cell_type": "markdown",
   "id": "bc069f85",
   "metadata": {},
   "source": [
    "### Backward Stepwise Selection:"
   ]
  },
  {
   "cell_type": "code",
   "execution_count": 20,
   "id": "674f694e",
   "metadata": {},
   "outputs": [],
   "source": [
    "def backward(predictors):\n",
    "    \n",
    "    tic = time.time()\n",
    "    \n",
    "    results = []\n",
    "    \n",
    "    for combo in itertools.combinations(predictors, len(predictors)-1):\n",
    "        results.append(process_subset(combo))\n",
    "    \n",
    "    # Wrap everything up in a nice dataframe\n",
    "    models = pd.DataFrame(results)\n",
    "    \n",
    "    # Choose the model with the smallest RSS\n",
    "    best_model = models.loc[models['RSS'].argmin()]\n",
    "    \n",
    "    toc = time.time()\n",
    "    print(\"Processed \", models.shape[0], \"models on\", len(predictors)-1, \"predictors in\", (toc-tic), \"seconds.\")\n",
    "    \n",
    "    # Return the best model, along with some other useful information about the model\n",
    "    return best_model"
   ]
  },
  {
   "cell_type": "code",
   "execution_count": 21,
   "id": "5a266b5b",
   "metadata": {},
   "outputs": [
    {
     "name": "stdout",
     "output_type": "stream",
     "text": [
      "Processed  9 models on 8 predictors in 0.03199577331542969 seconds.\n",
      "Processed  8 models on 7 predictors in 0.01844310760498047 seconds.\n",
      "Processed  7 models on 6 predictors in 0.012108087539672852 seconds.\n",
      "Processed  6 models on 5 predictors in 0.008371353149414062 seconds.\n",
      "Processed  5 models on 4 predictors in 0.006573915481567383 seconds.\n",
      "Processed  4 models on 3 predictors in 0.004168033599853516 seconds.\n",
      "Processed  3 models on 2 predictors in 0.0028679370880126953 seconds.\n",
      "Processed  2 models on 1 predictors in 0.0019850730895996094 seconds.\n",
      "Total elapsed time: 0.09487366676330566 seconds.\n"
     ]
    }
   ],
   "source": [
    "models_bwd = pd.DataFrame(columns=[\"RSS\", \"model\"])\n",
    "\n",
    "tic = time.time()\n",
    "predictors = Xtrain.columns\n",
    "\n",
    "while(len(predictors) > 1):\n",
    "    models_bwd.loc[len(predictors)-1] = backward(predictors)\n",
    "    predictors = models_bwd.loc[len(predictors)-1][\"model\"].model.exog_names\n",
    "\n",
    "toc = time.time()\n",
    "print(\"Total elapsed time:\", (toc-tic), \"seconds.\")"
   ]
  },
  {
   "cell_type": "markdown",
   "id": "cca70435",
   "metadata": {},
   "source": [
    "### a) Show your best model features"
   ]
  },
  {
   "cell_type": "markdown",
   "id": "49a62a17",
   "metadata": {},
   "source": [
    "Plot the resulted RSSs for each method"
   ]
  },
  {
   "cell_type": "code",
   "execution_count": 22,
   "id": "21ae80e4",
   "metadata": {},
   "outputs": [
    {
     "data": {
      "image/png": "[encoded data removed]",
      "text/plain": [
       "<Figure size 640x480 with 1 Axes>"
      ]
     },
     "metadata": {},
     "output_type": "display_data"
    }
   ],
   "source": [
    "plt.plot(models_best[\"RSS\"], label='best')\n",
    "plt.plot(models_fwd[\"RSS\"], label='forward')\n",
    "plt.plot(models_bwd[\"RSS\"], label='backward')\n",
    "\n",
    "plt.title('RSS vs # Predictors for each method')\n",
    "plt.xlabel('# Predictors')\n",
    "plt.ylabel('RSS')\n",
    "plt.legend();"
   ]
  },
  {
   "cell_type": "markdown",
   "id": "91261369",
   "metadata": {},
   "source": [
    "From the plots above, Best Subset and Forward Stepwise Selection models resulted in the smallest (best) RSS when the number of predictors is either 3, 4, 5, or 6.\n",
    "\n",
    "Next, I will find out the exact number of predictors which resulted in the smallest RSS."
   ]
  },
  {
   "cell_type": "code",
   "execution_count": 23,
   "id": "3e849a05",
   "metadata": {},
   "outputs": [
    {
     "name": "stdout",
     "output_type": "stream",
     "text": [
      "=== Best Subset Selection ===\n",
      "Smallest RSS:  464082392725.67804\n",
      "# Predictors:  4\n"
     ]
    }
   ],
   "source": [
    "i_best = pd.to_numeric(models_best['RSS']).idxmin()\n",
    "\n",
    "print(\"=== Best Subset Selection ===\")\n",
    "print(\"Smallest RSS: \", models_best.loc[i_best]['RSS'])\n",
    "print(\"# Predictors: \", i_best)"
   ]
  },
  {
   "cell_type": "code",
   "execution_count": 24,
   "id": "b7f35cdc",
   "metadata": {},
   "outputs": [
    {
     "name": "stdout",
     "output_type": "stream",
     "text": [
      "=== Forward Stepwise Selection ===\n",
      "Smallest RSS:  464082392725.678\n",
      "# Predictors:  4\n"
     ]
    }
   ],
   "source": [
    "i_fwd = pd.to_numeric(models_fwd['RSS']).idxmin()\n",
    "\n",
    "print(\"=== Forward Stepwise Selection ===\")\n",
    "print(\"Smallest RSS: \", models_fwd.loc[i_fwd]['RSS'])\n",
    "print(\"# Predictors: \", i_fwd)"
   ]
  },
  {
   "cell_type": "markdown",
   "id": "76ead780",
   "metadata": {},
   "source": [
    "Looking at the results above, both Best Subset and Forward Stepwise models resulted in the smallest RSS of 464082392725 when the number of predictors is equal to 4.\n",
    "\n",
    "Since the computation time for Forward Stepwise is much faster than Best Subset, I choose the Forward Stepwise model with 4 predictors as the best model.\n",
    "\n",
    "The features selected in this best model are: 'Neighborhood_West', 'SqFt', 'Offers', 'Bedrooms'"
   ]
  },
  {
   "cell_type": "code",
   "execution_count": 25,
   "id": "f3226d55",
   "metadata": {},
   "outputs": [
    {
     "name": "stdout",
     "output_type": "stream",
     "text": [
      "Features:  ['Neighborhood_West', 'SqFt', 'Offers', 'Bedrooms']\n"
     ]
    }
   ],
   "source": [
    "print(\"Features: \", models_fwd.loc[4]['model'].model.exog_names)"
   ]
  },
  {
   "cell_type": "markdown",
   "id": "28d67330",
   "metadata": {},
   "source": [
    "### b) Compare your model performance against the model Q1"
   ]
  },
  {
   "cell_type": "markdown",
   "id": "7a4ccd14",
   "metadata": {},
   "source": [
    "As I noted in Q1 above, the custom Linear Regression model in Q1 results in 7622 RMSE and 0.934 R2. \n",
    "\n",
    "Now, I will calculate the RMSE and R2 for the Forward Stepwise model with 4 predictors selected in Q2-a."
   ]
  },
  {
   "cell_type": "code",
   "execution_count": 26,
   "id": "9399a353",
   "metadata": {
    "scrolled": true
   },
   "outputs": [
    {
     "name": "stdout",
     "output_type": "stream",
     "text": [
      "RMSE:  133601.35776683356\n",
      "R2:  -19.232680818679853\n"
     ]
    }
   ],
   "source": [
    "selected_columns = models_fwd.loc[4]['model'].model.exog_names\n",
    "y_pred_fwd = models_fwd.loc[4]['model'].predict(Xtest[selected_columns])\n",
    "\n",
    "print(\"RMSE: \", rmse_score(y_pred_fwd, Ytest))\n",
    "print(\"R2: \", r2_score(y_pred_fwd, Ytest))"
   ]
  },
  {
   "cell_type": "markdown",
   "id": "305997eb",
   "metadata": {},
   "source": [
    "The bese model in Q2 resulted in 133601 RMSE and -19.23 R2.\n",
    "\n",
    "Comparing these results, I can say that the custom Linear Regression model in Q1 performed much better than the selected model in Q2."
   ]
  },
  {
   "cell_type": "code",
   "execution_count": null,
   "id": "7de34d0f",
   "metadata": {},
   "outputs": [],
   "source": []
  }
 ],
 "metadata": {
  "kernelspec": {
   "display_name": "Python 3 (ipykernel)",
   "language": "python",
   "name": "python3"
  },
  "language_info": {
   "codemirror_mode": {
    "name": "ipython",
    "version": 3
   },
   "file_extension": ".py",
   "mimetype": "text/x-python",
   "name": "python",
   "nbconvert_exporter": "python",
   "pygments_lexer": "ipython3",
   "version": "3.9.13"
  }
 },
 "nbformat": 4,
 "nbformat_minor": 5
}
