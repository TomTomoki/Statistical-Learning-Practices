{
 "cells": [
  {
   "cell_type": "markdown",
   "id": "923e7f32",
   "metadata": {},
   "source": [
    "# Homework 4\n",
    "\n",
    "Name: Tomoki Kyotani\n",
    "\n",
    "NUID: ‭002986248‬"
   ]
  },
  {
   "cell_type": "code",
   "execution_count": 1,
   "metadata": {},
   "outputs": [],
   "source": [
    "# Install libraries\n",
    "import pandas as pd\n",
    "import numpy as np\n",
    "import matplotlib.pyplot as plt\n",
    "from sklearn.model_selection import train_test_split\n",
    "from sklearn.preprocessing import StandardScaler\n",
    "from sklearn import metrics"
   ]
  },
  {
   "cell_type": "markdown",
   "metadata": {},
   "source": [
    "# 1. Create a custom logistic regression model using the following dataset (20 points)\n",
    "\n",
    "The data is sourced from study of Abalone in Tasmania. It can be found at the UCI Machine Learning RepositoryLinks to an external site.. The dataset contains 4,141 observations and 10 variables.\n",
    "\n",
    "    SEX = M (male), F (female), I (infant)\n",
    "\n",
    "    LENGTH = Longest shell length in mm\n",
    "\n",
    "    DIAM = Diameter perpendicular to length in mm\n",
    "\n",
    "    HEIGHT = Height perpendicular to length and diameter in mm\n",
    "\n",
    "    WHOLE = Whole weight of abalone in grams\n",
    "\n",
    "    SHUCK = Shucked weight of meat in grams\n",
    "\n",
    "    VISCERA = Viscera weight in grams\n",
    "\n",
    "    SHELL = Shell weight after drying in grams\n",
    "\n",
    "    RINGS = Age (+1.5 gives the age in years)\n",
    "\n",
    "    CLASS = Age classification from 1 to 6 (A1= youngest,..., A6=oldest)"
   ]
  },
  {
   "cell_type": "markdown",
   "metadata": {},
   "source": [
    "### Data Pre-processing"
   ]
  },
  {
   "cell_type": "code",
   "execution_count": 2,
   "metadata": {},
   "outputs": [
    {
     "name": "stdout",
     "output_type": "stream",
     "text": [
      "(4177, 9)\n"
     ]
    },
    {
     "data": {
      "text/html": [
       "<div>\n",
       "<style scoped>\n",
       "    .dataframe tbody tr th:only-of-type {\n",
       "        vertical-align: middle;\n",
       "    }\n",
       "\n",
       "    .dataframe tbody tr th {\n",
       "        vertical-align: top;\n",
       "    }\n",
       "\n",
       "    .dataframe thead th {\n",
       "        text-align: right;\n",
       "    }\n",
       "</style>\n",
       "<table border=\"1\" class=\"dataframe\">\n",
       "  <thead>\n",
       "    <tr style=\"text-align: right;\">\n",
       "      <th></th>\n",
       "      <th>0</th>\n",
       "      <th>1</th>\n",
       "      <th>2</th>\n",
       "      <th>3</th>\n",
       "      <th>4</th>\n",
       "      <th>5</th>\n",
       "      <th>6</th>\n",
       "      <th>7</th>\n",
       "      <th>8</th>\n",
       "    </tr>\n",
       "  </thead>\n",
       "  <tbody>\n",
       "    <tr>\n",
       "      <th>0</th>\n",
       "      <td>M</td>\n",
       "      <td>0.455</td>\n",
       "      <td>0.365</td>\n",
       "      <td>0.095</td>\n",
       "      <td>0.5140</td>\n",
       "      <td>0.2245</td>\n",
       "      <td>0.1010</td>\n",
       "      <td>0.150</td>\n",
       "      <td>15</td>\n",
       "    </tr>\n",
       "    <tr>\n",
       "      <th>1</th>\n",
       "      <td>M</td>\n",
       "      <td>0.350</td>\n",
       "      <td>0.265</td>\n",
       "      <td>0.090</td>\n",
       "      <td>0.2255</td>\n",
       "      <td>0.0995</td>\n",
       "      <td>0.0485</td>\n",
       "      <td>0.070</td>\n",
       "      <td>7</td>\n",
       "    </tr>\n",
       "    <tr>\n",
       "      <th>2</th>\n",
       "      <td>F</td>\n",
       "      <td>0.530</td>\n",
       "      <td>0.420</td>\n",
       "      <td>0.135</td>\n",
       "      <td>0.6770</td>\n",
       "      <td>0.2565</td>\n",
       "      <td>0.1415</td>\n",
       "      <td>0.210</td>\n",
       "      <td>9</td>\n",
       "    </tr>\n",
       "    <tr>\n",
       "      <th>3</th>\n",
       "      <td>M</td>\n",
       "      <td>0.440</td>\n",
       "      <td>0.365</td>\n",
       "      <td>0.125</td>\n",
       "      <td>0.5160</td>\n",
       "      <td>0.2155</td>\n",
       "      <td>0.1140</td>\n",
       "      <td>0.155</td>\n",
       "      <td>10</td>\n",
       "    </tr>\n",
       "    <tr>\n",
       "      <th>4</th>\n",
       "      <td>I</td>\n",
       "      <td>0.330</td>\n",
       "      <td>0.255</td>\n",
       "      <td>0.080</td>\n",
       "      <td>0.2050</td>\n",
       "      <td>0.0895</td>\n",
       "      <td>0.0395</td>\n",
       "      <td>0.055</td>\n",
       "      <td>7</td>\n",
       "    </tr>\n",
       "  </tbody>\n",
       "</table>\n",
       "</div>"
      ],
      "text/plain": [
       "   0      1      2      3       4       5       6      7   8\n",
       "0  M  0.455  0.365  0.095  0.5140  0.2245  0.1010  0.150  15\n",
       "1  M  0.350  0.265  0.090  0.2255  0.0995  0.0485  0.070   7\n",
       "2  F  0.530  0.420  0.135  0.6770  0.2565  0.1415  0.210   9\n",
       "3  M  0.440  0.365  0.125  0.5160  0.2155  0.1140  0.155  10\n",
       "4  I  0.330  0.255  0.080  0.2050  0.0895  0.0395  0.055   7"
      ]
     },
     "execution_count": 2,
     "metadata": {},
     "output_type": "execute_result"
    }
   ],
   "source": [
    "df = pd.read_csv('~/Downloads/abalone.data', header=None)\n",
    "print(df.shape)\n",
    "df.head()"
   ]
  },
  {
   "cell_type": "markdown",
   "metadata": {},
   "source": [
    "Assign the column names"
   ]
  },
  {
   "cell_type": "code",
   "execution_count": 3,
   "metadata": {},
   "outputs": [],
   "source": [
    "df.columns = ['SEX', 'LENGTH', 'DIAM', 'HEIGHT', 'WHOLE', 'SHUCK', 'VISCERA', 'SHELL', 'RINGS']"
   ]
  },
  {
   "cell_type": "markdown",
   "metadata": {},
   "source": [
    "The SEX feature contains categorical values. Convert this feature to integers (0/1) using one hot encoding."
   ]
  },
  {
   "cell_type": "code",
   "execution_count": 4,
   "metadata": {},
   "outputs": [
    {
     "data": {
      "text/plain": [
       "M    1528\n",
       "I    1342\n",
       "F    1307\n",
       "Name: SEX, dtype: int64"
      ]
     },
     "execution_count": 4,
     "metadata": {},
     "output_type": "execute_result"
    }
   ],
   "source": [
    "df.SEX.value_counts()"
   ]
  },
  {
   "cell_type": "code",
   "execution_count": 5,
   "metadata": {},
   "outputs": [
    {
     "data": {
      "text/html": [
       "<div>\n",
       "<style scoped>\n",
       "    .dataframe tbody tr th:only-of-type {\n",
       "        vertical-align: middle;\n",
       "    }\n",
       "\n",
       "    .dataframe tbody tr th {\n",
       "        vertical-align: top;\n",
       "    }\n",
       "\n",
       "    .dataframe thead th {\n",
       "        text-align: right;\n",
       "    }\n",
       "</style>\n",
       "<table border=\"1\" class=\"dataframe\">\n",
       "  <thead>\n",
       "    <tr style=\"text-align: right;\">\n",
       "      <th></th>\n",
       "      <th>LENGTH</th>\n",
       "      <th>DIAM</th>\n",
       "      <th>HEIGHT</th>\n",
       "      <th>WHOLE</th>\n",
       "      <th>SHUCK</th>\n",
       "      <th>VISCERA</th>\n",
       "      <th>SHELL</th>\n",
       "      <th>RINGS</th>\n",
       "      <th>SEX_F</th>\n",
       "      <th>SEX_I</th>\n",
       "      <th>SEX_M</th>\n",
       "    </tr>\n",
       "  </thead>\n",
       "  <tbody>\n",
       "    <tr>\n",
       "      <th>0</th>\n",
       "      <td>0.455</td>\n",
       "      <td>0.365</td>\n",
       "      <td>0.095</td>\n",
       "      <td>0.5140</td>\n",
       "      <td>0.2245</td>\n",
       "      <td>0.1010</td>\n",
       "      <td>0.150</td>\n",
       "      <td>15</td>\n",
       "      <td>0</td>\n",
       "      <td>0</td>\n",
       "      <td>1</td>\n",
       "    </tr>\n",
       "    <tr>\n",
       "      <th>1</th>\n",
       "      <td>0.350</td>\n",
       "      <td>0.265</td>\n",
       "      <td>0.090</td>\n",
       "      <td>0.2255</td>\n",
       "      <td>0.0995</td>\n",
       "      <td>0.0485</td>\n",
       "      <td>0.070</td>\n",
       "      <td>7</td>\n",
       "      <td>0</td>\n",
       "      <td>0</td>\n",
       "      <td>1</td>\n",
       "    </tr>\n",
       "    <tr>\n",
       "      <th>2</th>\n",
       "      <td>0.530</td>\n",
       "      <td>0.420</td>\n",
       "      <td>0.135</td>\n",
       "      <td>0.6770</td>\n",
       "      <td>0.2565</td>\n",
       "      <td>0.1415</td>\n",
       "      <td>0.210</td>\n",
       "      <td>9</td>\n",
       "      <td>1</td>\n",
       "      <td>0</td>\n",
       "      <td>0</td>\n",
       "    </tr>\n",
       "    <tr>\n",
       "      <th>3</th>\n",
       "      <td>0.440</td>\n",
       "      <td>0.365</td>\n",
       "      <td>0.125</td>\n",
       "      <td>0.5160</td>\n",
       "      <td>0.2155</td>\n",
       "      <td>0.1140</td>\n",
       "      <td>0.155</td>\n",
       "      <td>10</td>\n",
       "      <td>0</td>\n",
       "      <td>0</td>\n",
       "      <td>1</td>\n",
       "    </tr>\n",
       "    <tr>\n",
       "      <th>4</th>\n",
       "      <td>0.330</td>\n",
       "      <td>0.255</td>\n",
       "      <td>0.080</td>\n",
       "      <td>0.2050</td>\n",
       "      <td>0.0895</td>\n",
       "      <td>0.0395</td>\n",
       "      <td>0.055</td>\n",
       "      <td>7</td>\n",
       "      <td>0</td>\n",
       "      <td>1</td>\n",
       "      <td>0</td>\n",
       "    </tr>\n",
       "  </tbody>\n",
       "</table>\n",
       "</div>"
      ],
      "text/plain": [
       "   LENGTH   DIAM  HEIGHT   WHOLE   SHUCK  VISCERA  SHELL  RINGS  SEX_F  SEX_I  \\\n",
       "0   0.455  0.365   0.095  0.5140  0.2245   0.1010  0.150     15      0      0   \n",
       "1   0.350  0.265   0.090  0.2255  0.0995   0.0485  0.070      7      0      0   \n",
       "2   0.530  0.420   0.135  0.6770  0.2565   0.1415  0.210      9      1      0   \n",
       "3   0.440  0.365   0.125  0.5160  0.2155   0.1140  0.155     10      0      0   \n",
       "4   0.330  0.255   0.080  0.2050  0.0895   0.0395  0.055      7      0      1   \n",
       "\n",
       "   SEX_M  \n",
       "0      1  \n",
       "1      1  \n",
       "2      0  \n",
       "3      1  \n",
       "4      0  "
      ]
     },
     "execution_count": 5,
     "metadata": {},
     "output_type": "execute_result"
    }
   ],
   "source": [
    "df = pd.get_dummies(df)\n",
    "df.head()"
   ]
  },
  {
   "cell_type": "markdown",
   "metadata": {},
   "source": [
    "RINGS + 1.5 gives the AGE values. I will create a CLASS feature (Age classification) based on the AGE values."
   ]
  },
  {
   "cell_type": "code",
   "execution_count": 6,
   "metadata": {},
   "outputs": [
    {
     "data": {
      "text/html": [
       "<div>\n",
       "<style scoped>\n",
       "    .dataframe tbody tr th:only-of-type {\n",
       "        vertical-align: middle;\n",
       "    }\n",
       "\n",
       "    .dataframe tbody tr th {\n",
       "        vertical-align: top;\n",
       "    }\n",
       "\n",
       "    .dataframe thead th {\n",
       "        text-align: right;\n",
       "    }\n",
       "</style>\n",
       "<table border=\"1\" class=\"dataframe\">\n",
       "  <thead>\n",
       "    <tr style=\"text-align: right;\">\n",
       "      <th></th>\n",
       "      <th>LENGTH</th>\n",
       "      <th>DIAM</th>\n",
       "      <th>HEIGHT</th>\n",
       "      <th>WHOLE</th>\n",
       "      <th>SHUCK</th>\n",
       "      <th>VISCERA</th>\n",
       "      <th>SHELL</th>\n",
       "      <th>RINGS</th>\n",
       "      <th>SEX_F</th>\n",
       "      <th>SEX_I</th>\n",
       "      <th>SEX_M</th>\n",
       "      <th>AGE</th>\n",
       "      <th>CLASS</th>\n",
       "    </tr>\n",
       "  </thead>\n",
       "  <tbody>\n",
       "    <tr>\n",
       "      <th>0</th>\n",
       "      <td>0.455</td>\n",
       "      <td>0.365</td>\n",
       "      <td>0.095</td>\n",
       "      <td>0.5140</td>\n",
       "      <td>0.2245</td>\n",
       "      <td>0.1010</td>\n",
       "      <td>0.150</td>\n",
       "      <td>15</td>\n",
       "      <td>0</td>\n",
       "      <td>0</td>\n",
       "      <td>1</td>\n",
       "      <td>16.5</td>\n",
       "      <td>A6</td>\n",
       "    </tr>\n",
       "    <tr>\n",
       "      <th>1</th>\n",
       "      <td>0.350</td>\n",
       "      <td>0.265</td>\n",
       "      <td>0.090</td>\n",
       "      <td>0.2255</td>\n",
       "      <td>0.0995</td>\n",
       "      <td>0.0485</td>\n",
       "      <td>0.070</td>\n",
       "      <td>7</td>\n",
       "      <td>0</td>\n",
       "      <td>0</td>\n",
       "      <td>1</td>\n",
       "      <td>8.5</td>\n",
       "      <td>A1</td>\n",
       "    </tr>\n",
       "    <tr>\n",
       "      <th>2</th>\n",
       "      <td>0.530</td>\n",
       "      <td>0.420</td>\n",
       "      <td>0.135</td>\n",
       "      <td>0.6770</td>\n",
       "      <td>0.2565</td>\n",
       "      <td>0.1415</td>\n",
       "      <td>0.210</td>\n",
       "      <td>9</td>\n",
       "      <td>1</td>\n",
       "      <td>0</td>\n",
       "      <td>0</td>\n",
       "      <td>10.5</td>\n",
       "      <td>A3</td>\n",
       "    </tr>\n",
       "    <tr>\n",
       "      <th>3</th>\n",
       "      <td>0.440</td>\n",
       "      <td>0.365</td>\n",
       "      <td>0.125</td>\n",
       "      <td>0.5160</td>\n",
       "      <td>0.2155</td>\n",
       "      <td>0.1140</td>\n",
       "      <td>0.155</td>\n",
       "      <td>10</td>\n",
       "      <td>0</td>\n",
       "      <td>0</td>\n",
       "      <td>1</td>\n",
       "      <td>11.5</td>\n",
       "      <td>A4</td>\n",
       "    </tr>\n",
       "    <tr>\n",
       "      <th>4</th>\n",
       "      <td>0.330</td>\n",
       "      <td>0.255</td>\n",
       "      <td>0.080</td>\n",
       "      <td>0.2050</td>\n",
       "      <td>0.0895</td>\n",
       "      <td>0.0395</td>\n",
       "      <td>0.055</td>\n",
       "      <td>7</td>\n",
       "      <td>0</td>\n",
       "      <td>1</td>\n",
       "      <td>0</td>\n",
       "      <td>8.5</td>\n",
       "      <td>A1</td>\n",
       "    </tr>\n",
       "  </tbody>\n",
       "</table>\n",
       "</div>"
      ],
      "text/plain": [
       "   LENGTH   DIAM  HEIGHT   WHOLE   SHUCK  VISCERA  SHELL  RINGS  SEX_F  SEX_I  \\\n",
       "0   0.455  0.365   0.095  0.5140  0.2245   0.1010  0.150     15      0      0   \n",
       "1   0.350  0.265   0.090  0.2255  0.0995   0.0485  0.070      7      0      0   \n",
       "2   0.530  0.420   0.135  0.6770  0.2565   0.1415  0.210      9      1      0   \n",
       "3   0.440  0.365   0.125  0.5160  0.2155   0.1140  0.155     10      0      0   \n",
       "4   0.330  0.255   0.080  0.2050  0.0895   0.0395  0.055      7      0      1   \n",
       "\n",
       "   SEX_M   AGE CLASS  \n",
       "0      1  16.5    A6  \n",
       "1      1   8.5    A1  \n",
       "2      0  10.5    A3  \n",
       "3      1  11.5    A4  \n",
       "4      0   8.5    A1  "
      ]
     },
     "execution_count": 6,
     "metadata": {},
     "output_type": "execute_result"
    }
   ],
   "source": [
    "df['AGE'] = df.RINGS + 1.5\n",
    "df['CLASS'] = pd.qcut(df['AGE'], q=6, labels=['A1', 'A2', 'A3', 'A4', 'A5', 'A6'])\n",
    "df.head()"
   ]
  },
  {
   "cell_type": "markdown",
   "metadata": {},
   "source": [
    "The CLASS feature is derived from the AGE feature, and the AGE feature is derived from the RINGS feature. Therefore, since they are highly correlated, I will drop the AGE and RINGS features."
   ]
  },
  {
   "cell_type": "code",
   "execution_count": 7,
   "metadata": {},
   "outputs": [
    {
     "data": {
      "text/html": [
       "<div>\n",
       "<style scoped>\n",
       "    .dataframe tbody tr th:only-of-type {\n",
       "        vertical-align: middle;\n",
       "    }\n",
       "\n",
       "    .dataframe tbody tr th {\n",
       "        vertical-align: top;\n",
       "    }\n",
       "\n",
       "    .dataframe thead th {\n",
       "        text-align: right;\n",
       "    }\n",
       "</style>\n",
       "<table border=\"1\" class=\"dataframe\">\n",
       "  <thead>\n",
       "    <tr style=\"text-align: right;\">\n",
       "      <th></th>\n",
       "      <th>LENGTH</th>\n",
       "      <th>DIAM</th>\n",
       "      <th>HEIGHT</th>\n",
       "      <th>WHOLE</th>\n",
       "      <th>SHUCK</th>\n",
       "      <th>VISCERA</th>\n",
       "      <th>SHELL</th>\n",
       "      <th>SEX_F</th>\n",
       "      <th>SEX_I</th>\n",
       "      <th>SEX_M</th>\n",
       "      <th>CLASS</th>\n",
       "    </tr>\n",
       "  </thead>\n",
       "  <tbody>\n",
       "    <tr>\n",
       "      <th>0</th>\n",
       "      <td>0.455</td>\n",
       "      <td>0.365</td>\n",
       "      <td>0.095</td>\n",
       "      <td>0.5140</td>\n",
       "      <td>0.2245</td>\n",
       "      <td>0.1010</td>\n",
       "      <td>0.150</td>\n",
       "      <td>0</td>\n",
       "      <td>0</td>\n",
       "      <td>1</td>\n",
       "      <td>A6</td>\n",
       "    </tr>\n",
       "    <tr>\n",
       "      <th>1</th>\n",
       "      <td>0.350</td>\n",
       "      <td>0.265</td>\n",
       "      <td>0.090</td>\n",
       "      <td>0.2255</td>\n",
       "      <td>0.0995</td>\n",
       "      <td>0.0485</td>\n",
       "      <td>0.070</td>\n",
       "      <td>0</td>\n",
       "      <td>0</td>\n",
       "      <td>1</td>\n",
       "      <td>A1</td>\n",
       "    </tr>\n",
       "    <tr>\n",
       "      <th>2</th>\n",
       "      <td>0.530</td>\n",
       "      <td>0.420</td>\n",
       "      <td>0.135</td>\n",
       "      <td>0.6770</td>\n",
       "      <td>0.2565</td>\n",
       "      <td>0.1415</td>\n",
       "      <td>0.210</td>\n",
       "      <td>1</td>\n",
       "      <td>0</td>\n",
       "      <td>0</td>\n",
       "      <td>A3</td>\n",
       "    </tr>\n",
       "    <tr>\n",
       "      <th>3</th>\n",
       "      <td>0.440</td>\n",
       "      <td>0.365</td>\n",
       "      <td>0.125</td>\n",
       "      <td>0.5160</td>\n",
       "      <td>0.2155</td>\n",
       "      <td>0.1140</td>\n",
       "      <td>0.155</td>\n",
       "      <td>0</td>\n",
       "      <td>0</td>\n",
       "      <td>1</td>\n",
       "      <td>A4</td>\n",
       "    </tr>\n",
       "    <tr>\n",
       "      <th>4</th>\n",
       "      <td>0.330</td>\n",
       "      <td>0.255</td>\n",
       "      <td>0.080</td>\n",
       "      <td>0.2050</td>\n",
       "      <td>0.0895</td>\n",
       "      <td>0.0395</td>\n",
       "      <td>0.055</td>\n",
       "      <td>0</td>\n",
       "      <td>1</td>\n",
       "      <td>0</td>\n",
       "      <td>A1</td>\n",
       "    </tr>\n",
       "  </tbody>\n",
       "</table>\n",
       "</div>"
      ],
      "text/plain": [
       "   LENGTH   DIAM  HEIGHT   WHOLE   SHUCK  VISCERA  SHELL  SEX_F  SEX_I  SEX_M  \\\n",
       "0   0.455  0.365   0.095  0.5140  0.2245   0.1010  0.150      0      0      1   \n",
       "1   0.350  0.265   0.090  0.2255  0.0995   0.0485  0.070      0      0      1   \n",
       "2   0.530  0.420   0.135  0.6770  0.2565   0.1415  0.210      1      0      0   \n",
       "3   0.440  0.365   0.125  0.5160  0.2155   0.1140  0.155      0      0      1   \n",
       "4   0.330  0.255   0.080  0.2050  0.0895   0.0395  0.055      0      1      0   \n",
       "\n",
       "  CLASS  \n",
       "0    A6  \n",
       "1    A1  \n",
       "2    A3  \n",
       "3    A4  \n",
       "4    A1  "
      ]
     },
     "execution_count": 7,
     "metadata": {},
     "output_type": "execute_result"
    }
   ],
   "source": [
    "df.drop(['RINGS', 'AGE'], axis=1, inplace=True)\n",
    "df.head()"
   ]
  },
  {
   "cell_type": "markdown",
   "metadata": {},
   "source": [
    "### a) Split the dataset into training and test dataset 80:20"
   ]
  },
  {
   "cell_type": "code",
   "execution_count": 8,
   "metadata": {},
   "outputs": [
    {
     "data": {
      "text/html": [
       "<div>\n",
       "<style scoped>\n",
       "    .dataframe tbody tr th:only-of-type {\n",
       "        vertical-align: middle;\n",
       "    }\n",
       "\n",
       "    .dataframe tbody tr th {\n",
       "        vertical-align: top;\n",
       "    }\n",
       "\n",
       "    .dataframe thead th {\n",
       "        text-align: right;\n",
       "    }\n",
       "</style>\n",
       "<table border=\"1\" class=\"dataframe\">\n",
       "  <thead>\n",
       "    <tr style=\"text-align: right;\">\n",
       "      <th></th>\n",
       "      <th>LENGTH</th>\n",
       "      <th>DIAM</th>\n",
       "      <th>HEIGHT</th>\n",
       "      <th>WHOLE</th>\n",
       "      <th>SHUCK</th>\n",
       "      <th>VISCERA</th>\n",
       "      <th>SHELL</th>\n",
       "      <th>SEX_F</th>\n",
       "      <th>SEX_I</th>\n",
       "      <th>SEX_M</th>\n",
       "    </tr>\n",
       "  </thead>\n",
       "  <tbody>\n",
       "    <tr>\n",
       "      <th>4125</th>\n",
       "      <td>0.540</td>\n",
       "      <td>0.415</td>\n",
       "      <td>0.135</td>\n",
       "      <td>0.7090</td>\n",
       "      <td>0.3195</td>\n",
       "      <td>0.1740</td>\n",
       "      <td>0.185</td>\n",
       "      <td>0</td>\n",
       "      <td>1</td>\n",
       "      <td>0</td>\n",
       "    </tr>\n",
       "    <tr>\n",
       "      <th>317</th>\n",
       "      <td>0.450</td>\n",
       "      <td>0.350</td>\n",
       "      <td>0.100</td>\n",
       "      <td>0.3675</td>\n",
       "      <td>0.1465</td>\n",
       "      <td>0.1015</td>\n",
       "      <td>0.120</td>\n",
       "      <td>0</td>\n",
       "      <td>0</td>\n",
       "      <td>1</td>\n",
       "    </tr>\n",
       "    <tr>\n",
       "      <th>3200</th>\n",
       "      <td>0.505</td>\n",
       "      <td>0.405</td>\n",
       "      <td>0.160</td>\n",
       "      <td>0.6835</td>\n",
       "      <td>0.2710</td>\n",
       "      <td>0.1450</td>\n",
       "      <td>0.215</td>\n",
       "      <td>1</td>\n",
       "      <td>0</td>\n",
       "      <td>0</td>\n",
       "    </tr>\n",
       "    <tr>\n",
       "      <th>767</th>\n",
       "      <td>0.345</td>\n",
       "      <td>0.270</td>\n",
       "      <td>0.095</td>\n",
       "      <td>0.1970</td>\n",
       "      <td>0.0665</td>\n",
       "      <td>0.0500</td>\n",
       "      <td>0.070</td>\n",
       "      <td>0</td>\n",
       "      <td>0</td>\n",
       "      <td>1</td>\n",
       "    </tr>\n",
       "    <tr>\n",
       "      <th>4159</th>\n",
       "      <td>0.560</td>\n",
       "      <td>0.440</td>\n",
       "      <td>0.135</td>\n",
       "      <td>0.8025</td>\n",
       "      <td>0.3500</td>\n",
       "      <td>0.1615</td>\n",
       "      <td>0.259</td>\n",
       "      <td>1</td>\n",
       "      <td>0</td>\n",
       "      <td>0</td>\n",
       "    </tr>\n",
       "  </tbody>\n",
       "</table>\n",
       "</div>"
      ],
      "text/plain": [
       "      LENGTH   DIAM  HEIGHT   WHOLE   SHUCK  VISCERA  SHELL  SEX_F  SEX_I  \\\n",
       "4125   0.540  0.415   0.135  0.7090  0.3195   0.1740  0.185      0      1   \n",
       "317    0.450  0.350   0.100  0.3675  0.1465   0.1015  0.120      0      0   \n",
       "3200   0.505  0.405   0.160  0.6835  0.2710   0.1450  0.215      1      0   \n",
       "767    0.345  0.270   0.095  0.1970  0.0665   0.0500  0.070      0      0   \n",
       "4159   0.560  0.440   0.135  0.8025  0.3500   0.1615  0.259      1      0   \n",
       "\n",
       "      SEX_M  \n",
       "4125      0  \n",
       "317       1  \n",
       "3200      0  \n",
       "767       1  \n",
       "4159      0  "
      ]
     },
     "execution_count": 8,
     "metadata": {},
     "output_type": "execute_result"
    }
   ],
   "source": [
    "x = df.iloc[:, :10]\n",
    "y = df.CLASS\n",
    "\n",
    "x_train, x_test, y_train, y_test = train_test_split(x, y, test_size = 0.2, random_state=11)\n",
    "x_train.head()"
   ]
  },
  {
   "cell_type": "markdown",
   "metadata": {},
   "source": [
    "### b) Custom logistic regression model should be in python class format (Should have init(), predict(), train() methods) and train the model using training dataset\n",
    "\n",
    "Reference: IE7300 \"Multiclass Logistic Regression.ipynb\" file"
   ]
  },
  {
   "cell_type": "code",
   "execution_count": 9,
   "metadata": {},
   "outputs": [],
   "source": [
    "class MultiClassLogisticRegression:    \n",
    "    def __init__(self, epochs = 10000, threshold=1e-3):\n",
    "        \"\"\"\n",
    "        Constructor for multiclass regression\n",
    "\n",
    "        Args:\n",
    "            epochs (int, optional): No of iteration Defaults to 10000.\n",
    "            threshold (_type_, optional): Each iteration thresold. Defaults to 1e-3.\n",
    "        \"\"\"\n",
    "        self.epochs = epochs\n",
    "        self.threshold = threshold\n",
    "    \n",
    "    def train(self, X, y, batch_size=64, lr=0.001, rand_seed=4, verbose=False): \n",
    "        \"\"\"\n",
    "        Train the model\n",
    "\n",
    "        Args:\n",
    "            X (_type_): Features\n",
    "            y (_type_): Labels\n",
    "            batch_size (int, optional): Batch size per iterations. Defaults to 64.\n",
    "            lr (float, optional): Learning rate. Defaults to 0.001.\n",
    "            rand_seed (int, optional): _description_. Defaults to 4.\n",
    "            verbose (bool, optional): _description_. Defaults to False.\n",
    "\n",
    "        Returns:\n",
    "            _type_: return the instance \n",
    "        \"\"\"\n",
    "        np.random.seed(rand_seed) \n",
    "        self.classes = np.unique(y)\n",
    "        self.class_labels = {c:i for i,c in enumerate(self.classes)}\n",
    "        X = self.add_bias(X)\n",
    "        y = self.one_hot(y)\n",
    "        self.loss = []\n",
    "        self.weights = np.zeros(shape=(len(self.classes),X.shape[1]))\n",
    "        self.train_data(X, y, batch_size, lr, verbose)\n",
    "        return self\n",
    " \n",
    "    def train_data(self, X, y, batch_size, lr, verbose):\n",
    "        i = 0\n",
    "        while (not self.epochs or i < self.epochs):\n",
    "            self.loss.append(self.cross_entropy(y, self.predict_(X)))\n",
    "            idx = np.random.choice(X.shape[0], batch_size)\n",
    "            X_batch, y_batch = X[idx], y[idx]\n",
    "            error = y_batch - self.predict_(X_batch)\n",
    "            update = (lr * np.dot(error.T, X_batch))\n",
    "            self.weights += update\n",
    "            if np.abs(update).max() < self.threshold: \n",
    "                break\n",
    "            if i % 1000 == 0 and verbose: \n",
    "                print(' Training Accuray at {} iterations is {}'.format(i, self.evaluate_(X, y)))\n",
    "            i +=1\n",
    "    \n",
    "    # Predict probabilities\n",
    "    def predict(self, X):\n",
    "        return self.predict_(self.add_bias(X))\n",
    "    \n",
    "    def predict_(self, X):\n",
    "        pre_vals = np.dot(X, self.weights.T).reshape(-1,len(self.classes))\n",
    "        return self.softmax(pre_vals)\n",
    "    \n",
    "    def softmax(self, z):\n",
    "        return np.exp(z) / np.sum(np.exp(z), axis=1).reshape(-1,1)\n",
    "\n",
    "    # Return predicted classes based on the probabilities\n",
    "    def predict_classes(self, X):\n",
    "        self.probs_ = self.predict(X)\n",
    "        return np.vectorize(lambda c: self.classes[c])(np.argmax(self.probs_, axis=1))\n",
    "  \n",
    "    def add_bias(self,X):\n",
    "        return np.insert(X, 0, 1, axis=1)\n",
    "  \n",
    "    # def get_random_weights(self, row, col):\n",
    "    #     return np.zeros(shape=(row,col))\n",
    "\n",
    "    def one_hot(self, y):\n",
    "        return np.eye(len(self.classes))[np.vectorize(lambda c: self.class_labels[c])(y).reshape(-1)]\n",
    "    \n",
    "    def score(self, X, y):\n",
    "        return round(np.mean(self.predict_classes(X) == y),3)\n",
    "    \n",
    "    def evaluate_(self, X, y):\n",
    "        return np.mean(np.argmax(self.predict_(X), axis=1) == np.argmax(y, axis=1))\n",
    "    \n",
    "    def cross_entropy(self, y, probs):\n",
    "        return -1 * np.mean(y * np.log(probs))"
   ]
  },
  {
   "cell_type": "markdown",
   "metadata": {},
   "source": [
    "Train the model using the training dataset"
   ]
  },
  {
   "cell_type": "code",
   "execution_count": 10,
   "metadata": {},
   "outputs": [
    {
     "name": "stdout",
     "output_type": "stream",
     "text": [
      " Training Accuray at 0 iterations is 0.29482190960790183\n",
      " Training Accuray at 1000 iterations is 0.40526788386710566\n",
      " Training Accuray at 2000 iterations is 0.41664172403472016\n",
      " Training Accuray at 3000 iterations is 0.42771625261897633\n",
      " Training Accuray at 4000 iterations is 0.4346004190362167\n",
      " Training Accuray at 5000 iterations is 0.4405866507033822\n",
      " Training Accuray at 6000 iterations is 0.4510625561209219\n",
      " Training Accuray at 7000 iterations is 0.4507632445375636\n",
      " Training Accuray at 8000 iterations is 0.4657288237054774\n",
      " Training Accuray at 9000 iterations is 0.4621370847051781\n"
     ]
    },
    {
     "data": {
      "text/plain": [
       "<__main__.MultiClassLogisticRegression at 0x7f8c69cc9ac0>"
      ]
     },
     "execution_count": 10,
     "metadata": {},
     "output_type": "execute_result"
    }
   ],
   "source": [
    "lg_model = MultiClassLogisticRegression()\n",
    "lg_model.train(np.array(x_train), np.array(y_train), verbose=True)"
   ]
  },
  {
   "cell_type": "markdown",
   "metadata": {},
   "source": [
    "### c) Predict the age category using test dataset, and provide some insights"
   ]
  },
  {
   "cell_type": "code",
   "execution_count": 11,
   "metadata": {},
   "outputs": [
    {
     "data": {
      "text/plain": [
       "0.4449760765550239"
      ]
     },
     "execution_count": 11,
     "metadata": {},
     "output_type": "execute_result"
    }
   ],
   "source": [
    "np.mean(lg_model.predict_classes(np.array(x_test)) == y_test)"
   ]
  },
  {
   "cell_type": "markdown",
   "metadata": {},
   "source": [
    "As shown above, the accuracy from the test dataset is only 0.445, and the performance of this model is not good. In order to improve the performance of the model, I looked at the statistics of the dataset and noticed that scaling might help in this case since the features are not necessarily in the same scale."
   ]
  },
  {
   "cell_type": "code",
   "execution_count": 12,
   "metadata": {},
   "outputs": [
    {
     "data": {
      "text/html": [
       "<div>\n",
       "<style scoped>\n",
       "    .dataframe tbody tr th:only-of-type {\n",
       "        vertical-align: middle;\n",
       "    }\n",
       "\n",
       "    .dataframe tbody tr th {\n",
       "        vertical-align: top;\n",
       "    }\n",
       "\n",
       "    .dataframe thead th {\n",
       "        text-align: right;\n",
       "    }\n",
       "</style>\n",
       "<table border=\"1\" class=\"dataframe\">\n",
       "  <thead>\n",
       "    <tr style=\"text-align: right;\">\n",
       "      <th></th>\n",
       "      <th>LENGTH</th>\n",
       "      <th>DIAM</th>\n",
       "      <th>HEIGHT</th>\n",
       "      <th>WHOLE</th>\n",
       "      <th>SHUCK</th>\n",
       "      <th>VISCERA</th>\n",
       "      <th>SHELL</th>\n",
       "      <th>SEX_F</th>\n",
       "      <th>SEX_I</th>\n",
       "      <th>SEX_M</th>\n",
       "    </tr>\n",
       "  </thead>\n",
       "  <tbody>\n",
       "    <tr>\n",
       "      <th>count</th>\n",
       "      <td>4177.000000</td>\n",
       "      <td>4177.000000</td>\n",
       "      <td>4177.000000</td>\n",
       "      <td>4177.000000</td>\n",
       "      <td>4177.000000</td>\n",
       "      <td>4177.000000</td>\n",
       "      <td>4177.000000</td>\n",
       "      <td>4177.000000</td>\n",
       "      <td>4177.000000</td>\n",
       "      <td>4177.000000</td>\n",
       "    </tr>\n",
       "    <tr>\n",
       "      <th>mean</th>\n",
       "      <td>0.523992</td>\n",
       "      <td>0.407881</td>\n",
       "      <td>0.139516</td>\n",
       "      <td>0.828742</td>\n",
       "      <td>0.359367</td>\n",
       "      <td>0.180594</td>\n",
       "      <td>0.238831</td>\n",
       "      <td>0.312904</td>\n",
       "      <td>0.321283</td>\n",
       "      <td>0.365813</td>\n",
       "    </tr>\n",
       "    <tr>\n",
       "      <th>std</th>\n",
       "      <td>0.120093</td>\n",
       "      <td>0.099240</td>\n",
       "      <td>0.041827</td>\n",
       "      <td>0.490389</td>\n",
       "      <td>0.221963</td>\n",
       "      <td>0.109614</td>\n",
       "      <td>0.139203</td>\n",
       "      <td>0.463731</td>\n",
       "      <td>0.467025</td>\n",
       "      <td>0.481715</td>\n",
       "    </tr>\n",
       "    <tr>\n",
       "      <th>min</th>\n",
       "      <td>0.075000</td>\n",
       "      <td>0.055000</td>\n",
       "      <td>0.000000</td>\n",
       "      <td>0.002000</td>\n",
       "      <td>0.001000</td>\n",
       "      <td>0.000500</td>\n",
       "      <td>0.001500</td>\n",
       "      <td>0.000000</td>\n",
       "      <td>0.000000</td>\n",
       "      <td>0.000000</td>\n",
       "    </tr>\n",
       "    <tr>\n",
       "      <th>25%</th>\n",
       "      <td>0.450000</td>\n",
       "      <td>0.350000</td>\n",
       "      <td>0.115000</td>\n",
       "      <td>0.441500</td>\n",
       "      <td>0.186000</td>\n",
       "      <td>0.093500</td>\n",
       "      <td>0.130000</td>\n",
       "      <td>0.000000</td>\n",
       "      <td>0.000000</td>\n",
       "      <td>0.000000</td>\n",
       "    </tr>\n",
       "    <tr>\n",
       "      <th>50%</th>\n",
       "      <td>0.545000</td>\n",
       "      <td>0.425000</td>\n",
       "      <td>0.140000</td>\n",
       "      <td>0.799500</td>\n",
       "      <td>0.336000</td>\n",
       "      <td>0.171000</td>\n",
       "      <td>0.234000</td>\n",
       "      <td>0.000000</td>\n",
       "      <td>0.000000</td>\n",
       "      <td>0.000000</td>\n",
       "    </tr>\n",
       "    <tr>\n",
       "      <th>75%</th>\n",
       "      <td>0.615000</td>\n",
       "      <td>0.480000</td>\n",
       "      <td>0.165000</td>\n",
       "      <td>1.153000</td>\n",
       "      <td>0.502000</td>\n",
       "      <td>0.253000</td>\n",
       "      <td>0.329000</td>\n",
       "      <td>1.000000</td>\n",
       "      <td>1.000000</td>\n",
       "      <td>1.000000</td>\n",
       "    </tr>\n",
       "    <tr>\n",
       "      <th>max</th>\n",
       "      <td>0.815000</td>\n",
       "      <td>0.650000</td>\n",
       "      <td>1.130000</td>\n",
       "      <td>2.825500</td>\n",
       "      <td>1.488000</td>\n",
       "      <td>0.760000</td>\n",
       "      <td>1.005000</td>\n",
       "      <td>1.000000</td>\n",
       "      <td>1.000000</td>\n",
       "      <td>1.000000</td>\n",
       "    </tr>\n",
       "  </tbody>\n",
       "</table>\n",
       "</div>"
      ],
      "text/plain": [
       "            LENGTH         DIAM       HEIGHT        WHOLE        SHUCK  \\\n",
       "count  4177.000000  4177.000000  4177.000000  4177.000000  4177.000000   \n",
       "mean      0.523992     0.407881     0.139516     0.828742     0.359367   \n",
       "std       0.120093     0.099240     0.041827     0.490389     0.221963   \n",
       "min       0.075000     0.055000     0.000000     0.002000     0.001000   \n",
       "25%       0.450000     0.350000     0.115000     0.441500     0.186000   \n",
       "50%       0.545000     0.425000     0.140000     0.799500     0.336000   \n",
       "75%       0.615000     0.480000     0.165000     1.153000     0.502000   \n",
       "max       0.815000     0.650000     1.130000     2.825500     1.488000   \n",
       "\n",
       "           VISCERA        SHELL        SEX_F        SEX_I        SEX_M  \n",
       "count  4177.000000  4177.000000  4177.000000  4177.000000  4177.000000  \n",
       "mean      0.180594     0.238831     0.312904     0.321283     0.365813  \n",
       "std       0.109614     0.139203     0.463731     0.467025     0.481715  \n",
       "min       0.000500     0.001500     0.000000     0.000000     0.000000  \n",
       "25%       0.093500     0.130000     0.000000     0.000000     0.000000  \n",
       "50%       0.171000     0.234000     0.000000     0.000000     0.000000  \n",
       "75%       0.253000     0.329000     1.000000     1.000000     1.000000  \n",
       "max       0.760000     1.005000     1.000000     1.000000     1.000000  "
      ]
     },
     "execution_count": 12,
     "metadata": {},
     "output_type": "execute_result"
    }
   ],
   "source": [
    "x.describe()"
   ]
  },
  {
   "cell_type": "markdown",
   "metadata": {},
   "source": [
    "Scale the dataset and train the model again."
   ]
  },
  {
   "cell_type": "code",
   "execution_count": 13,
   "metadata": {},
   "outputs": [
    {
     "data": {
      "text/html": [
       "<div>\n",
       "<style scoped>\n",
       "    .dataframe tbody tr th:only-of-type {\n",
       "        vertical-align: middle;\n",
       "    }\n",
       "\n",
       "    .dataframe tbody tr th {\n",
       "        vertical-align: top;\n",
       "    }\n",
       "\n",
       "    .dataframe thead th {\n",
       "        text-align: right;\n",
       "    }\n",
       "</style>\n",
       "<table border=\"1\" class=\"dataframe\">\n",
       "  <thead>\n",
       "    <tr style=\"text-align: right;\">\n",
       "      <th></th>\n",
       "      <th>LENGTH</th>\n",
       "      <th>DIAM</th>\n",
       "      <th>HEIGHT</th>\n",
       "      <th>WHOLE</th>\n",
       "      <th>SHUCK</th>\n",
       "      <th>VISCERA</th>\n",
       "      <th>SHELL</th>\n",
       "      <th>SEX_F</th>\n",
       "      <th>SEX_I</th>\n",
       "      <th>SEX_M</th>\n",
       "    </tr>\n",
       "  </thead>\n",
       "  <tbody>\n",
       "    <tr>\n",
       "      <th>0</th>\n",
       "      <td>-0.574558</td>\n",
       "      <td>-0.432149</td>\n",
       "      <td>-1.064424</td>\n",
       "      <td>-0.641898</td>\n",
       "      <td>-0.607685</td>\n",
       "      <td>-0.726212</td>\n",
       "      <td>-0.638217</td>\n",
       "      <td>-0.674834</td>\n",
       "      <td>-0.688018</td>\n",
       "      <td>1.316677</td>\n",
       "    </tr>\n",
       "    <tr>\n",
       "      <th>1</th>\n",
       "      <td>-1.448986</td>\n",
       "      <td>-1.439929</td>\n",
       "      <td>-1.183978</td>\n",
       "      <td>-1.230277</td>\n",
       "      <td>-1.170910</td>\n",
       "      <td>-1.205221</td>\n",
       "      <td>-1.212987</td>\n",
       "      <td>-0.674834</td>\n",
       "      <td>-0.688018</td>\n",
       "      <td>1.316677</td>\n",
       "    </tr>\n",
       "    <tr>\n",
       "      <th>2</th>\n",
       "      <td>0.050033</td>\n",
       "      <td>0.122130</td>\n",
       "      <td>-0.107991</td>\n",
       "      <td>-0.309469</td>\n",
       "      <td>-0.463500</td>\n",
       "      <td>-0.356690</td>\n",
       "      <td>-0.207139</td>\n",
       "      <td>1.481846</td>\n",
       "      <td>-0.688018</td>\n",
       "      <td>-0.759488</td>\n",
       "    </tr>\n",
       "    <tr>\n",
       "      <th>3</th>\n",
       "      <td>-0.699476</td>\n",
       "      <td>-0.432149</td>\n",
       "      <td>-0.347099</td>\n",
       "      <td>-0.637819</td>\n",
       "      <td>-0.648238</td>\n",
       "      <td>-0.607600</td>\n",
       "      <td>-0.602294</td>\n",
       "      <td>-0.674834</td>\n",
       "      <td>-0.688018</td>\n",
       "      <td>1.316677</td>\n",
       "    </tr>\n",
       "    <tr>\n",
       "      <th>4</th>\n",
       "      <td>-1.615544</td>\n",
       "      <td>-1.540707</td>\n",
       "      <td>-1.423087</td>\n",
       "      <td>-1.272086</td>\n",
       "      <td>-1.215968</td>\n",
       "      <td>-1.287337</td>\n",
       "      <td>-1.320757</td>\n",
       "      <td>-0.674834</td>\n",
       "      <td>1.453451</td>\n",
       "      <td>-0.759488</td>\n",
       "    </tr>\n",
       "  </tbody>\n",
       "</table>\n",
       "</div>"
      ],
      "text/plain": [
       "     LENGTH      DIAM    HEIGHT     WHOLE     SHUCK   VISCERA     SHELL  \\\n",
       "0 -0.574558 -0.432149 -1.064424 -0.641898 -0.607685 -0.726212 -0.638217   \n",
       "1 -1.448986 -1.439929 -1.183978 -1.230277 -1.170910 -1.205221 -1.212987   \n",
       "2  0.050033  0.122130 -0.107991 -0.309469 -0.463500 -0.356690 -0.207139   \n",
       "3 -0.699476 -0.432149 -0.347099 -0.637819 -0.648238 -0.607600 -0.602294   \n",
       "4 -1.615544 -1.540707 -1.423087 -1.272086 -1.215968 -1.287337 -1.320757   \n",
       "\n",
       "      SEX_F     SEX_I     SEX_M  \n",
       "0 -0.674834 -0.688018  1.316677  \n",
       "1 -0.674834 -0.688018  1.316677  \n",
       "2  1.481846 -0.688018 -0.759488  \n",
       "3 -0.674834 -0.688018  1.316677  \n",
       "4 -0.674834  1.453451 -0.759488  "
      ]
     },
     "execution_count": 13,
     "metadata": {},
     "output_type": "execute_result"
    }
   ],
   "source": [
    "x = df.iloc[:, :10]\n",
    "y = df.CLASS\n",
    "\n",
    "x_columns = x.columns\n",
    "sc = StandardScaler()\n",
    "x = pd.DataFrame(sc.fit_transform(x))\n",
    "x.columns = x_columns\n",
    "x.head()"
   ]
  },
  {
   "cell_type": "markdown",
   "metadata": {},
   "source": [
    "Split the data into training and test (80:20)."
   ]
  },
  {
   "cell_type": "code",
   "execution_count": 14,
   "metadata": {},
   "outputs": [],
   "source": [
    "x_train, x_test, y_train, y_test = train_test_split(x, y, test_size = 0.2, random_state=12)"
   ]
  },
  {
   "cell_type": "markdown",
   "metadata": {},
   "source": [
    "Train the model and predict using the test dataset."
   ]
  },
  {
   "cell_type": "code",
   "execution_count": 15,
   "metadata": {},
   "outputs": [
    {
     "name": "stdout",
     "output_type": "stream",
     "text": [
      " Training Accuray at 0 iterations is 0.3873091888656091\n",
      " Training Accuray at 1000 iterations is 0.4806944028733912\n",
      " Training Accuray at 2000 iterations is 0.4917689314576474\n",
      " Training Accuray at 3000 iterations is 0.4932654893744388\n",
      " Training Accuray at 4000 iterations is 0.49536067045794674\n",
      " Training Accuray at 5000 iterations is 0.4944627357078719\n",
      " Training Accuray at 6000 iterations is 0.4971565399580964\n",
      " Training Accuray at 7000 iterations is 0.49865309787488776\n",
      " Training Accuray at 8000 iterations is 0.4983537862915295\n",
      " Training Accuray at 9000 iterations is 0.4968572283747381\n"
     ]
    },
    {
     "data": {
      "text/plain": [
       "<__main__.MultiClassLogisticRegression at 0x7f8c7b51b250>"
      ]
     },
     "execution_count": 15,
     "metadata": {},
     "output_type": "execute_result"
    }
   ],
   "source": [
    "lg_model = MultiClassLogisticRegression()\n",
    "lg_model.train(np.array(x_train), np.array(y_train), verbose=True)"
   ]
  },
  {
   "cell_type": "code",
   "execution_count": 16,
   "metadata": {},
   "outputs": [
    {
     "name": "stdout",
     "output_type": "stream",
     "text": [
      "Test Accuracy -  0.5311004784688995\n"
     ]
    }
   ],
   "source": [
    "y_pred = lg_model.predict_classes(np.array(x_test))\n",
    "print(\"Test Accuracy - \", np.mean(y_pred == y_test))"
   ]
  },
  {
   "cell_type": "markdown",
   "metadata": {},
   "source": [
    "As shown above, although the new accuracy 0.53 is still low, I can see that the model performance slightly improved via scaling."
   ]
  },
  {
   "cell_type": "markdown",
   "metadata": {},
   "source": [
    "### d) Show the predicted output, and loss function output plots, and explain the outcome"
   ]
  },
  {
   "cell_type": "code",
   "execution_count": 17,
   "metadata": {},
   "outputs": [
    {
     "data": {
      "image/png": "[encoded data removed]",
      "text/plain": [
       "<Figure size 640x480 with 2 Axes>"
      ]
     },
     "metadata": {},
     "output_type": "display_data"
    }
   ],
   "source": [
    "confusion_matrix = metrics.confusion_matrix(y_test, y_pred) \n",
    "cm_display = metrics.ConfusionMatrixDisplay(confusion_matrix = confusion_matrix, display_labels = ['A1', 'A2', 'A3', 'A4', 'A5', 'A6'])\n",
    "\n",
    "cm_display.plot()\n",
    "plt.show()"
   ]
  },
  {
   "cell_type": "code",
   "execution_count": 18,
   "metadata": {},
   "outputs": [
    {
     "data": {
      "image/png": "[encoded data removed]",
      "text/plain": [
       "<Figure size 800x600 with 1 Axes>"
      ]
     },
     "metadata": {},
     "output_type": "display_data"
    }
   ],
   "source": [
    "fig = plt.figure(figsize=(8,6))\n",
    "plt.plot(np.arange(len(lg_model.loss)), lg_model.loss)\n",
    "plt.title(\"Development of loss during training\")\n",
    "plt.xlabel(\"Number of iterations\")\n",
    "plt.ylabel(\"Loss\")\n",
    "plt.show()"
   ]
  },
  {
   "cell_type": "markdown",
   "metadata": {},
   "source": [
    "Looking at the plots above, we can see that this model predicts the classes 'A1' and 'A4' the best. \n",
    "\n",
    "In addition, from the loss function output plot, it can be seen that the more interations we have, the better the loss score is. However, the large number of iterations requires longer computation time and more resources, so we need to be cautious when choosing the number of interations. "
   ]
  },
  {
   "cell_type": "markdown",
   "metadata": {},
   "source": [
    "### e) Calculate the Confusion matrix and explain the model accuracy"
   ]
  },
  {
   "cell_type": "code",
   "execution_count": 19,
   "metadata": {},
   "outputs": [
    {
     "data": {
      "image/png": "[encoded data removed]",
      "text/plain": [
       "<Figure size 640x480 with 2 Axes>"
      ]
     },
     "metadata": {},
     "output_type": "display_data"
    }
   ],
   "source": [
    "confusion_matrix = metrics.confusion_matrix(y_test, y_pred) \n",
    "cm_display = metrics.ConfusionMatrixDisplay(confusion_matrix = confusion_matrix, display_labels = ['A1', 'A2', 'A3', 'A4', 'A5', 'A6'])\n",
    "\n",
    "cm_display.plot()\n",
    "plt.show()"
   ]
  },
  {
   "cell_type": "code",
   "execution_count": 20,
   "metadata": {},
   "outputs": [
    {
     "name": "stdout",
     "output_type": "stream",
     "text": [
      "              precision    recall  f1-score   support\n",
      "\n",
      "          A1       0.69      0.84      0.76       180\n",
      "          A2       0.33      0.31      0.32       107\n",
      "          A3       0.28      0.11      0.16       133\n",
      "          A4       0.48      0.72      0.58       228\n",
      "          A5       0.00      0.00      0.00        47\n",
      "          A6       0.65      0.56      0.60       141\n",
      "\n",
      "    accuracy                           0.53       836\n",
      "   macro avg       0.41      0.42      0.40       836\n",
      "weighted avg       0.48      0.53      0.49       836\n",
      "\n"
     ]
    }
   ],
   "source": [
    "print(metrics.classification_report(y_test, y_pred, zero_division=0))"
   ]
  },
  {
   "cell_type": "markdown",
   "metadata": {},
   "source": [
    "Looking at the result above, although the overall accuracy is low (0.53), we can still see that this model predicts the class \"A1\" and \"A4\" better than other classes. For these \"A1\" and \"A4\" classes, their recall is the highest among the other matrics of each class and is 0.84 and 0.72, respectively. This indicates that this model is good at accurately predicting the \"A1\" and \"A4\" classes among all actual \"A1\" and \"A4\" classes."
   ]
  },
  {
   "cell_type": "markdown",
   "metadata": {},
   "source": [
    "# 2. Perform Principal component Analysis for the same dataset (15 points)\n",
    "\n",
    "Reference: IE7300 \"PCA.ipynb\" file"
   ]
  },
  {
   "cell_type": "code",
   "execution_count": 21,
   "metadata": {},
   "outputs": [],
   "source": [
    "class PCA:\n",
    "    \"\"\"\n",
    "     Implement the PCA from scratch\n",
    "    \"\"\"\n",
    "    def __init__(self, n_components):\n",
    "        \"\"\"\n",
    "         Constructor for PCA class\n",
    "\n",
    "        Args:\n",
    "            n_components (_type_): _description_\n",
    "        \"\"\"\n",
    "        self.n_components = n_components\n",
    "        self.components = None\n",
    "        self.mean = None\n",
    "\n",
    "    def fit(self, X):\n",
    "        \"\"\"\n",
    "        Fit the PCA model\n",
    "\n",
    "        Args:\n",
    "            X (_type_): _description_\n",
    "        \"\"\"\n",
    "        # Mean centering\n",
    "        self.mean = np.mean(X, axis=0)\n",
    "        X = X - self.mean\n",
    "\n",
    "        # covariance, function needs samples as columns\n",
    "        cov = np.cov(X.T)\n",
    "\n",
    "        # eigenvalues, eigenvectors\n",
    "        eigenvalues, eigenvectors = np.linalg.eig(cov)\n",
    "\n",
    "        # -> eigenvector v = [:,i] column vector, transpose for easier calculations\n",
    "        # sort eigenvectors\n",
    "        eigenvectors = eigenvectors.T\n",
    "        idxs = np.argsort(eigenvalues)[::-1]\n",
    "        self.eigenvalues = eigenvalues[idxs]\n",
    "        eigenvectors = eigenvectors[idxs]\n",
    "\n",
    "        # store first n eigenvectors\n",
    "        self.components = eigenvectors[0 : self.n_components]\n",
    "\n",
    "    def transform(self, X):\n",
    "        # project data\n",
    "        X = X - self.mean\n",
    "        return np.dot(X, self.components.T)"
   ]
  },
  {
   "cell_type": "markdown",
   "metadata": {},
   "source": [
    "### a) Show top 3 of the PCA component output"
   ]
  },
  {
   "cell_type": "code",
   "execution_count": 22,
   "metadata": {},
   "outputs": [
    {
     "data": {
      "text/html": [
       "<div>\n",
       "<style scoped>\n",
       "    .dataframe tbody tr th:only-of-type {\n",
       "        vertical-align: middle;\n",
       "    }\n",
       "\n",
       "    .dataframe tbody tr th {\n",
       "        vertical-align: top;\n",
       "    }\n",
       "\n",
       "    .dataframe thead th {\n",
       "        text-align: right;\n",
       "    }\n",
       "</style>\n",
       "<table border=\"1\" class=\"dataframe\">\n",
       "  <thead>\n",
       "    <tr style=\"text-align: right;\">\n",
       "      <th></th>\n",
       "      <th>LENGTH</th>\n",
       "      <th>DIAM</th>\n",
       "      <th>HEIGHT</th>\n",
       "      <th>WHOLE</th>\n",
       "      <th>SHUCK</th>\n",
       "      <th>VISCERA</th>\n",
       "      <th>SHELL</th>\n",
       "      <th>SEX_F</th>\n",
       "      <th>SEX_I</th>\n",
       "      <th>SEX_M</th>\n",
       "      <th>CLASS</th>\n",
       "    </tr>\n",
       "  </thead>\n",
       "  <tbody>\n",
       "    <tr>\n",
       "      <th>0</th>\n",
       "      <td>0.455</td>\n",
       "      <td>0.365</td>\n",
       "      <td>0.095</td>\n",
       "      <td>0.5140</td>\n",
       "      <td>0.2245</td>\n",
       "      <td>0.1010</td>\n",
       "      <td>0.150</td>\n",
       "      <td>0</td>\n",
       "      <td>0</td>\n",
       "      <td>1</td>\n",
       "      <td>A6</td>\n",
       "    </tr>\n",
       "    <tr>\n",
       "      <th>1</th>\n",
       "      <td>0.350</td>\n",
       "      <td>0.265</td>\n",
       "      <td>0.090</td>\n",
       "      <td>0.2255</td>\n",
       "      <td>0.0995</td>\n",
       "      <td>0.0485</td>\n",
       "      <td>0.070</td>\n",
       "      <td>0</td>\n",
       "      <td>0</td>\n",
       "      <td>1</td>\n",
       "      <td>A1</td>\n",
       "    </tr>\n",
       "    <tr>\n",
       "      <th>2</th>\n",
       "      <td>0.530</td>\n",
       "      <td>0.420</td>\n",
       "      <td>0.135</td>\n",
       "      <td>0.6770</td>\n",
       "      <td>0.2565</td>\n",
       "      <td>0.1415</td>\n",
       "      <td>0.210</td>\n",
       "      <td>1</td>\n",
       "      <td>0</td>\n",
       "      <td>0</td>\n",
       "      <td>A3</td>\n",
       "    </tr>\n",
       "    <tr>\n",
       "      <th>3</th>\n",
       "      <td>0.440</td>\n",
       "      <td>0.365</td>\n",
       "      <td>0.125</td>\n",
       "      <td>0.5160</td>\n",
       "      <td>0.2155</td>\n",
       "      <td>0.1140</td>\n",
       "      <td>0.155</td>\n",
       "      <td>0</td>\n",
       "      <td>0</td>\n",
       "      <td>1</td>\n",
       "      <td>A4</td>\n",
       "    </tr>\n",
       "    <tr>\n",
       "      <th>4</th>\n",
       "      <td>0.330</td>\n",
       "      <td>0.255</td>\n",
       "      <td>0.080</td>\n",
       "      <td>0.2050</td>\n",
       "      <td>0.0895</td>\n",
       "      <td>0.0395</td>\n",
       "      <td>0.055</td>\n",
       "      <td>0</td>\n",
       "      <td>1</td>\n",
       "      <td>0</td>\n",
       "      <td>A1</td>\n",
       "    </tr>\n",
       "  </tbody>\n",
       "</table>\n",
       "</div>"
      ],
      "text/plain": [
       "   LENGTH   DIAM  HEIGHT   WHOLE   SHUCK  VISCERA  SHELL  SEX_F  SEX_I  SEX_M  \\\n",
       "0   0.455  0.365   0.095  0.5140  0.2245   0.1010  0.150      0      0      1   \n",
       "1   0.350  0.265   0.090  0.2255  0.0995   0.0485  0.070      0      0      1   \n",
       "2   0.530  0.420   0.135  0.6770  0.2565   0.1415  0.210      1      0      0   \n",
       "3   0.440  0.365   0.125  0.5160  0.2155   0.1140  0.155      0      0      1   \n",
       "4   0.330  0.255   0.080  0.2050  0.0895   0.0395  0.055      0      1      0   \n",
       "\n",
       "  CLASS  \n",
       "0    A6  \n",
       "1    A1  \n",
       "2    A3  \n",
       "3    A4  \n",
       "4    A1  "
      ]
     },
     "execution_count": 22,
     "metadata": {},
     "output_type": "execute_result"
    }
   ],
   "source": [
    "df.head()"
   ]
  },
  {
   "cell_type": "code",
   "execution_count": 23,
   "metadata": {},
   "outputs": [
    {
     "name": "stdout",
     "output_type": "stream",
     "text": [
      "Shape of X: (4177, 10)\n",
      "Shape of transformed X: (4177, 3)\n",
      "pca_projected: \n",
      "         PC1       PC2       PC3\n",
      "0  0.026193  0.710585  0.486584\n",
      "1 -0.227569  0.737814  0.731180\n",
      "2  0.126753 -0.713963  0.465479\n",
      "3  0.026789  0.710420  0.486378\n",
      "4 -1.124623 -0.010408 -0.066754\n"
     ]
    }
   ],
   "source": [
    "x = df.iloc[:, :10]\n",
    "y = df['CLASS']\n",
    "\n",
    "pca = PCA(3)\n",
    "pca.fit(x)\n",
    "pca_projected = pca.transform(x)\n",
    "pca_projected = pd.DataFrame(pca_projected, columns = ['PC1', 'PC2', 'PC3'])\n",
    "\n",
    "print(\"Shape of X:\", x.shape)\n",
    "print(\"Shape of transformed X:\", pca_projected.shape)\n",
    "print(\"pca_projected: \\n\", pca_projected.head())\n",
    "\n",
    "pc1 = pca_projected.iloc[:, 0]\n",
    "pc2 = pca_projected.iloc[:, 1]\n",
    "pc3 = pca_projected.iloc[:, 2]"
   ]
  },
  {
   "cell_type": "markdown",
   "metadata": {},
   "source": [
    "The first 5 rows of the calculated top 3 Principal Components are shown above."
   ]
  },
  {
   "cell_type": "markdown",
   "metadata": {},
   "source": [
    "### b) Plot the PCA 1, PCA 2 , and PCA2 components"
   ]
  },
  {
   "cell_type": "code",
   "execution_count": 24,
   "metadata": {},
   "outputs": [
    {
     "data": {
      "image/png": "[encoded data removed]",
      "text/plain": [
       "<Figure size 800x800 with 1 Axes>"
      ]
     },
     "metadata": {},
     "output_type": "display_data"
    }
   ],
   "source": [
    "fig = plt.figure(figsize =(8, 8))\n",
    "ax = fig.add_subplot(projection='3d')\n",
    "\n",
    "colors = {'A1': 'orange', 'A2': 'blue', 'A3':'green', 'A4':'lightblue', 'A5':'red', 'A6':'pink'}\n",
    "\n",
    "for class_key in colors:\n",
    "\n",
    "    ax.scatter(pc3[y == class_key], pc1[y == class_key], pc2[y == class_key], c=colors[class_key], label=class_key, alpha = 0.5)\n",
    "\n",
    "ax.set_xlabel(\"Principal Component 3\")\n",
    "ax.set_ylabel(\"Principal Component 1\")\n",
    "ax.set_zlabel(\"Principal Component 2\")\n",
    "ax.legend()\n",
    "\n",
    "plt.show()"
   ]
  },
  {
   "cell_type": "markdown",
   "metadata": {},
   "source": [
    "As the plot above shows, we can see that the class 'A1' tend to have a lower value of PC2 and a higher value of PC3. On the other hand, the class 'A4' tend to have a higher value of PC2 and a lower value of PC3."
   ]
  },
  {
   "cell_type": "markdown",
   "metadata": {},
   "source": [
    "### c) Could you use PCA component for logistic regression? "
   ]
  },
  {
   "cell_type": "markdown",
   "metadata": {},
   "source": [
    "Yes, we can use PCA for logistic regression. PCA is helpful when there are many predictors and can reduce the number of predictors. By doing so, we can reduce the computation time as we can use less predictors."
   ]
  }
 ],
 "metadata": {
  "kernelspec": {
   "display_name": "Python 3 (ipykernel)",
   "language": "python",
   "name": "python3"
  },
  "language_info": {
   "codemirror_mode": {
    "name": "ipython",
    "version": 3
   },
   "file_extension": ".py",
   "mimetype": "text/x-python",
   "name": "python",
   "nbconvert_exporter": "python",
   "pygments_lexer": "ipython3",
   "version": "3.9.13"
  },
  "vscode": {
   "interpreter": {
    "hash": "289e5972663573f8832d5264a2fd7ec6c836ee9f01f7fd97c7cfa1b872744531"
   }
  }
 },
 "nbformat": 4,
 "nbformat_minor": 2
}
